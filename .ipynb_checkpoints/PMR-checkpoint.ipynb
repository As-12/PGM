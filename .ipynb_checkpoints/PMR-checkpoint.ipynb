{
 "cells": [
  {
   "cell_type": "markdown",
   "metadata": {},
   "source": [
    "# Probabilistic Modelling Assignment 1 (INFR11134)   2017/2018\n",
    "\n",
    "\n",
    "## UUN: S1778742\n",
    "\n",
    "## Email: s1778742@ed.ac.uk\n"
   ]
  },
  {
   "cell_type": "markdown",
   "metadata": {},
   "source": [
    "![title](img/introduction.png)"
   ]
  },
  {
   "cell_type": "markdown",
   "metadata": {},
   "source": [
    "![title](img/notation.png)"
   ]
  },
  {
   "cell_type": "markdown",
   "metadata": {},
   "source": [
    "![title](img/question1.png)"
   ]
  },
  {
   "cell_type": "markdown",
   "metadata": {},
   "source": [
    "![title](img/1a.png)"
   ]
  },
  {
   "cell_type": "markdown",
   "metadata": {},
   "source": [
    "### Answer\n",
    "![title](img/1a-ans1.png)"
   ]
  },
  {
   "cell_type": "markdown",
   "metadata": {},
   "source": [
    "![title](img/1b.png)"
   ]
  },
  {
   "cell_type": "markdown",
   "metadata": {},
   "source": [
    "### Answer\n",
    "### $(S_{1} \\perp\\!\\!\\!\\perp S_{2}) \\mid r^{2}$  "
   ]
  },
  {
   "cell_type": "markdown",
   "metadata": {},
   "source": [
    "This statement is conditionally independent, because all of the path from S1 to S2 are d-seperated. \n",
    "\n",
    "There are two path between S1 and S2.\n",
    " 1. $S_{1}$ - $r^{1}$ - $S_{2}$ \n",
    "  - This is blocked by $r^{1}$, since it is a collider. \n",
    "  \n",
    "  \n",
    " 2. $S_{1}$ - $r^{3}$ - $S_{3}$ - $r_{2}$ - $S_{2}$ \n",
    "  - $S_{1}$ to  $S_{3}$ is blocked by $r^{3}$ as it is a collider.\n",
    "  - After $r^{2}$ is observed, the path between $S_{3}$ and $S_{2}$ becomes unblocked.\n",
    "  - There is at least one blocked path.\n",
    "\n",
    "Since every available path are blocked between $S_{1}$ and $S_{2}$. There are considered conditionally independent."
   ]
  },
  {
   "cell_type": "markdown",
   "metadata": {},
   "source": [
    "### $(S_{1} \\not\\perp\\!\\!\\!\\perp S_{2}) \\mid r^{2},r^{3}$"
   ]
  },
  {
   "cell_type": "markdown",
   "metadata": {},
   "source": [
    "This statement is NOT conditionally independent, because not every path from S1 to S2 are d-seperated. \n",
    "\n",
    "There are two path between S1 and S2.\n",
    " 1. $S_{1}$ - $r^{1}$ - $S_{2}$ \n",
    "  - This is blocked by $r^{1}$, since it is a collider. \n",
    "  \n",
    "  \n",
    " 2. $S_{1}$ - $r^{3}$ - $S_{3}$ - $r_{2}$ - $S_{2}$\n",
    "  - After $r^{3}$ is observed, the path between $S_{1}$ and $S_{3}$ becomes unblocked. \n",
    "  - After $r^{2}$ is observed, the path between $S_{3}$ and $S_{2}$ becomes unblocked.\n",
    "  - There is no blocked path from $S_{1}$ and $S_{2}$. Therefore, they are not conditionall independent.\n"
   ]
  },
  {
   "cell_type": "markdown",
   "metadata": {},
   "source": [
    "![title](img/1c.png)"
   ]
  },
  {
   "cell_type": "markdown",
   "metadata": {},
   "source": [
    "### Answer"
   ]
  },
  {
   "cell_type": "markdown",
   "metadata": {},
   "source": [
    "![title](img/1c-ans1.png)"
   ]
  },
  {
   "cell_type": "markdown",
   "metadata": {},
   "source": [
    "![title](img/1d.png)"
   ]
  },
  {
   "cell_type": "markdown",
   "metadata": {},
   "source": [
    "### Answer\n",
    "![title](img/1d-ans1.png)"
   ]
  },
  {
   "cell_type": "markdown",
   "metadata": {},
   "source": [
    "![title](img/2a.png)"
   ]
  },
  {
   "cell_type": "markdown",
   "metadata": {},
   "source": [
    "### Answer\n",
    "$ \\Bbb{P} [S_{1},S_{2},S_{3},r_{1},r_{2},r_{3}] = \n",
    "\\Bbb{P}(S_{1}) \n",
    "\\Bbb{P}(S_{2}) \n",
    "\\Bbb{P}(S_{3}) \n",
    "\\Bbb{P}(r^{1} \\mid S_{1}, S_{2}) \n",
    "\\Bbb{P}(r^{2} \\mid S_{2}, S_{3})\n",
    "\\Bbb{P}(r^{3} \\mid S_{1}, S_{3})$\n",
    "\n",
    "1. $\\Bbb{P}(S_{1})$ : Prior probability of $S_{1}$ having certain level of skills.\n",
    "2. $\\Bbb{P}(S_{2})$ : Prior probability of $S_{2}$ having certain level of skills.\n",
    "3. $\\Bbb{P}(S_{3})$ : Prior probability of $S_{3}$ having certain level of skills.\n",
    "4. $\\Bbb{P}(r^{1} \\mid S_{1}, S_{2}) $ : Posterior probability of game1 outcome given skills of $S_{1}$ and $S_{2}$.\n",
    "5. $\\Bbb{P}(r^{2} \\mid S_{2}, S_{3}) $ : Posterior probability of game2 outcome given skills of $S_{2}$ and $S_{3}$.\n",
    "6. $\\Bbb{P}(r^{3} \\mid S_{1}, S_{3}) $ : Posterior probability of game3 outcome given skills of $S_{1}$ and $S_{3}$."
   ]
  },
  {
   "cell_type": "markdown",
   "metadata": {},
   "source": [
    "![title](img/2b.png)"
   ]
  },
  {
   "cell_type": "markdown",
   "metadata": {},
   "source": [
    "### Answer\n",
    "\n",
    "1. $\\Phi_{1}(S_{1}) = \\Bbb{P}(S_{1})$\n",
    "2. $\\Phi_{2}(S_{2}) = \\Bbb{P}(S_{2})$\n",
    "3. $\\Phi_{3}(S_{3}) = \\Bbb{P}(S_{3})$\n",
    "4. $\\Phi_{A}(r^{1}, S_{1}, S_{2}) = \\Bbb{P}(r^{1} \\mid S_{1}, S_{2}) $\n",
    "5. $\\Phi_{B}(r^{2}, S_{1}, S_{2}) = \\Bbb{P}(r^{2} \\mid S_{2}, S_{3}) $\n",
    "6. $\\Phi_{C}(r^{3}, S_{3}, S_{1}) = \\Bbb{P}(r^{3} \\mid S_{3}, S_{1}) $"
   ]
  },
  {
   "cell_type": "markdown",
   "metadata": {},
   "source": [
    "![title](img/2c.png)"
   ]
  },
  {
   "cell_type": "markdown",
   "metadata": {},
   "source": [
    "![title](img/2c-ans1.png)"
   ]
  },
  {
   "cell_type": "markdown",
   "metadata": {},
   "source": [
    "### Answer\n",
    "\n",
    "1. $\\Phi_{1}(S_{1}) = \\Bbb{P}(S_{1})$\n",
    "2. $\\Phi_{2}(S_{2}) = \\Bbb{P}(S_{2})$\n",
    "3. $\\Phi_{3}(S_{3}) = \\Bbb{P}(S_{3})$\n",
    "4. $\\Phi_{y}( S_{1}, S_{2}) = \\Bbb{P}(r^{1} = 1 \\mid S_{1}, S_{2}) $\n",
    "5. $\\Phi_{w}( S_{2}, S_{3}) = \\Bbb{P}(r^{2} = 0 \\mid S_{2}, S_{3}) $\n",
    "6. $\\Phi_{x}( S_{3}, S_{1}) = \\Bbb{P}(r^{3} = 1 \\mid S_{3}, S_{1}) $"
   ]
  },
  {
   "cell_type": "markdown",
   "metadata": {},
   "source": [
    "![title](img/2d-1.png)"
   ]
  },
  {
   "cell_type": "markdown",
   "metadata": {},
   "source": [
    "![title](img/2d-2.png)"
   ]
  },
  {
   "cell_type": "markdown",
   "metadata": {},
   "source": [
    "### Answer\n",
    "No. Standard message passing is not possible since there's a loop in the graph and it is not a tree."
   ]
  },
  {
   "cell_type": "markdown",
   "metadata": {},
   "source": [
    "![title](img/2e.png)"
   ]
  },
  {
   "cell_type": "markdown",
   "metadata": {},
   "source": [
    "### Answer"
   ]
  },
  {
   "cell_type": "markdown",
   "metadata": {},
   "source": [
    "![title](img/2e-ans1.png)"
   ]
  },
  {
   "cell_type": "markdown",
   "metadata": {},
   "source": [
    "For $\\Bbb{P}( S_{2}, S_{3} \\mid r^{1} = 1,r^{2} = 0,r^{3} = 1) $\n",
    "\n",
    "Factorizes to:\n",
    "\n",
    "$\\Phi_{2}(S_{2}) \\Phi_{3}(S_{3}) \\Phi_{w}( S_{2}, S_{3}) \\Phi_{1}(S_{1}) \\Phi_{y}( S_{1}, S_{2}) \\Phi_{x}( S_{3}, S_{1})$\n",
    "\n",
    "Marginalizing S1 results in:\n",
    "\n",
    "$\\Phi_{2}(S_{2}) \\Phi_{3}(S_{3}) \\Phi_{w}( S_{2}, S_{3}) \\sum_{S_{1}=k} \\Phi_{1}(S_{1}) \\Phi_{y}( S_{1}, S_{2}) \\Phi_{x}( S_{3}, S_{1})$\n",
    "\n",
    "Eliminate S1:\n",
    "\n",
    "$\\Phi_{2}(S_{2}) \\Phi_{3}(S_{3}) \\Phi_{w}( S_{2}, S_{3})  \\Phi_{\\tilde~1}( S_{2}, S_{3}) $ \n",
    "\n",
    "Each potential represents:\n",
    "\n",
    "1. $\\Phi_{2}(S_{2}) = \\Bbb{P}(S_{2})$\n",
    "2. $\\Phi_{3}(S_{3}) = \\Bbb{P}(S_{3})$\n",
    "3. $\\Phi_{w}( S_{2}, S_{3}) = \\Bbb{P}(r^{2} = 0 \\mid S_{2}, S_{3}) $\n",
    "4. $\\Phi_{\\tilde~1}( S_{2}, S_{3}) = \\sum_{S_{1}=k} \\Phi_{1}(S_{1}) \\Phi_{y}( S_{1}, S_{2}) \\Phi_{x}( S_{3}, S_{1}) = \\sum_{S_{1}=k} \\Bbb{P}(S_{1}) \\Bbb{P}(r^{1} = 1 \\mid S_{1}, S_{2}) \\Bbb{P}(r^{3} = 1 \\mid S_{3}, S_{1}) $"
   ]
  },
  {
   "cell_type": "code",
   "execution_count": 3,
   "metadata": {
    "collapsed": true
   },
   "outputs": [],
   "source": [
    "import numpy as np \n",
    "import pandas as pd\n",
    "import matplotlib.pyplot as plt\n",
    "import seaborn as sns\n",
    "%matplotlib inline\n",
    "\n",
    "def P(var):\n",
    "    \"\"\"\n",
    "    This function returns prior probability array of variable.\n",
    "    \"\"\"\n",
    "    if var == \"S1\":\n",
    "        return np.array([0.01, 0.01, 0.08, 0.2, 0.7])\n",
    "    if var == \"S2\":\n",
    "        return np.array([0.02, 0.02, 0.06, 0.3, 0.6])\n",
    "    if var == \"S3\":\n",
    "        return np.array([0.2, 0.2, 0.2, 0.2, 0.2])\n",
    "    \n",
    "    assert False, str(var) + \" does not exist.\"\n",
    "    \n",
    "\n",
    "def Skills(var):\n",
    "    \"\"\"\n",
    "    This function returns numerical skill value array of variable.\n",
    "    \"\"\"\n",
    "    if var == \"S1\":\n",
    "        return np.array([1,2,3,4,5])\n",
    "    if var == \"S2\":\n",
    "        return np.array([1,2,3,4,5])\n",
    "    if var == \"S3\":\n",
    "        return np.array([1,2,3,4,5])\n",
    "\n",
    "    assert False, str(var) + \" does not exist.\"\n",
    "    \n",
    "\n",
    "def CondP_Black_Winning(skill_black, skill_white):\n",
    "    \"\"\"\n",
    "    Calculate conditonal probability distribution whether a game will win, given the skill of 2 players.\n",
    "    \"\"\"\n",
    "    return 0.0052 * (skill_black -  skill_white)**3 + 0.0292 * (skill_black - skill_white) + 0.5\n",
    "\n",
    "def Phi_Tild_1(skill_s2, skill_s3):\n",
    "    \"\"\"\n",
    "    Function that marginalizes S1 given S2 and S3\n",
    "    \"\"\"\n",
    "    #for skill_s1,prob_s1 in zip(Skills(\"S1\"),P(\"S1\")):\n",
    "    #    value += prob_s1 * CondP_Black_Winning(skill_s2,skill_s3) * CondP_Black_Winning(skill_s3,skill_s1)\n",
    "    value = P(\"S1\") * CondP_Black_Winning(Skills(\"S1\"),skill_s2) * CondP_Black_Winning(skill_s3,Skills(\"S1\"))\n",
    "    return value.sum()"
   ]
  },
  {
   "cell_type": "code",
   "execution_count": 4,
   "metadata": {},
   "outputs": [
    {
     "data": {
      "text/html": [
       "<div>\n",
       "<style>\n",
       "    .dataframe thead tr:only-child th {\n",
       "        text-align: right;\n",
       "    }\n",
       "\n",
       "    .dataframe thead th {\n",
       "        text-align: left;\n",
       "    }\n",
       "\n",
       "    .dataframe tbody tr th {\n",
       "        vertical-align: top;\n",
       "    }\n",
       "</style>\n",
       "<table border=\"1\" class=\"dataframe\">\n",
       "  <thead>\n",
       "    <tr style=\"text-align: right;\">\n",
       "      <th></th>\n",
       "      <th>S3=1</th>\n",
       "      <th>S3=2</th>\n",
       "      <th>S3=3</th>\n",
       "      <th>S3=4</th>\n",
       "      <th>S3=5</th>\n",
       "    </tr>\n",
       "  </thead>\n",
       "  <tbody>\n",
       "    <tr>\n",
       "      <th>S2=1</th>\n",
       "      <td>0.097293</td>\n",
       "      <td>0.266737</td>\n",
       "      <td>0.363535</td>\n",
       "      <td>0.414791</td>\n",
       "      <td>0.447607</td>\n",
       "    </tr>\n",
       "    <tr>\n",
       "      <th>S2=2</th>\n",
       "      <td>0.080081</td>\n",
       "      <td>0.211505</td>\n",
       "      <td>0.286554</td>\n",
       "      <td>0.326506</td>\n",
       "      <td>0.352641</td>\n",
       "    </tr>\n",
       "    <tr>\n",
       "      <th>S2=3</th>\n",
       "      <td>0.070407</td>\n",
       "      <td>0.180082</td>\n",
       "      <td>0.242651</td>\n",
       "      <td>0.276074</td>\n",
       "      <td>0.298305</td>\n",
       "    </tr>\n",
       "    <tr>\n",
       "      <th>S2=4</th>\n",
       "      <td>0.064175</td>\n",
       "      <td>0.162546</td>\n",
       "      <td>0.218586</td>\n",
       "      <td>0.248457</td>\n",
       "      <td>0.268324</td>\n",
       "    </tr>\n",
       "    <tr>\n",
       "      <th>S2=5</th>\n",
       "      <td>0.057287</td>\n",
       "      <td>0.148977</td>\n",
       "      <td>0.201113</td>\n",
       "      <td>0.228620</td>\n",
       "      <td>0.246422</td>\n",
       "    </tr>\n",
       "  </tbody>\n",
       "</table>\n",
       "</div>"
      ],
      "text/plain": [
       "          S3=1      S3=2      S3=3      S3=4      S3=5\n",
       "S2=1  0.097293  0.266737  0.363535  0.414791  0.447607\n",
       "S2=2  0.080081  0.211505  0.286554  0.326506  0.352641\n",
       "S2=3  0.070407  0.180082  0.242651  0.276074  0.298305\n",
       "S2=4  0.064175  0.162546  0.218586  0.248457  0.268324\n",
       "S2=5  0.057287  0.148977  0.201113  0.228620  0.246422"
      ]
     },
     "execution_count": 4,
     "metadata": {},
     "output_type": "execute_result"
    }
   ],
   "source": [
    "table = []\n",
    "for skill_s2,prob_s2 in zip(Skills(\"S2\"),P(\"S2\")):\n",
    "    row = []\n",
    "    for skill_s3,prob_s3 in zip(Skills(\"S3\"),P(\"S3\")):\n",
    "        row.append(Phi_Tild_1(skill_s2,skill_s3))\n",
    "    table.append(row)\n",
    "table = np.array(table)\n",
    "\n",
    "pd.DataFrame(data=table,index=[\"S2=1\",\"S2=2\",\"S2=3\",\"S2=4\",\"S2=5\"], columns=[\"S3=1\",\"S3=2\",\"S3=3\",\"S3=4\",\"S3=5\"])"
   ]
  },
  {
   "cell_type": "markdown",
   "metadata": {},
   "source": [
    "##### Table above indicates value of $\\Phi_{\\tilde~1}( S_{2}, S_{3})$ given S3 and S2"
   ]
  },
  {
   "cell_type": "markdown",
   "metadata": {},
   "source": [
    "![title](img/2f.png)"
   ]
  },
  {
   "cell_type": "markdown",
   "metadata": {},
   "source": [
    "### Answer\n",
    "$\\Bbb{P}( S_{2}, S_{3} \\mid r^{1} = 1,r^{2} = 0,r^{3} = 1)   \\propto  \\Phi_{2}(S_{2}) \\Phi_{3}(S_{3}) \\Phi_{w}( S_{2}, S_{3})  \\Phi_{\\tilde~1}( S_{2}, S_{3}) $ \n",
    "\n",
    "Marginalizing S2 results to :\n",
    "\n",
    "$\\Bbb{P}( S_{2}, S_{3} \\mid r^{1} = 1,r^{2} = 0,r^{3} = 1)   \\propto  \\Phi_{3}(S_{3}) \\sum_{S_{2}=k} \\Phi_{2}(S_{2}) \\Phi_{w}( S_{2}, S_{3})   \\Phi_{\\tilde~1}( S_{2}, S_{3}) $ \n",
    "\n",
    "Eliminate S2:\n",
    "\n",
    "$ \\Psi_{1}(S_{3}) \\Psi_{2}(S_{3}) =\\Phi_{3}(S_{3}) \\sum_{S_{2}=k} \\Phi_{2}(S_{2}) \\Phi_{w}( S_{2}, S_{3})   \\Phi_{\\tilde~1}( S_{2}, S_{3})  $ \n",
    "\n",
    "Each function represents:\n",
    "\n",
    "$ \\Psi_{1}(S_{3}) = \\Phi_{3}(S_{3}) $\n",
    "\n",
    "$ \\Psi_{2}(S_{3}) = \\sum_{S_{2}=k} \\Phi_{2}(S_{2}) \\Phi_{w}( S_{2}, S_{3})   \\Phi_{\\tilde~1}( S_{2}, S_{3}) $\n",
    "\n",
    "Note that:\n",
    "\n",
    "\n",
    "$\\Phi_{w}( S_{2}, S_{3}) = \\Bbb{P}(r^{2} = 0 \\mid S_{2}, S_{3}) = 1 - \\Bbb{P}(r^{2} = 1 \\mid S_{2}, S_{3})$"
   ]
  },
  {
   "cell_type": "code",
   "execution_count": 5,
   "metadata": {},
   "outputs": [
    {
     "data": {
      "text/html": [
       "<div>\n",
       "<style>\n",
       "    .dataframe thead tr:only-child th {\n",
       "        text-align: right;\n",
       "    }\n",
       "\n",
       "    .dataframe thead th {\n",
       "        text-align: left;\n",
       "    }\n",
       "\n",
       "    .dataframe tbody tr th {\n",
       "        vertical-align: top;\n",
       "    }\n",
       "</style>\n",
       "<table border=\"1\" class=\"dataframe\">\n",
       "  <thead>\n",
       "    <tr style=\"text-align: right;\">\n",
       "      <th></th>\n",
       "      <th>S2</th>\n",
       "    </tr>\n",
       "  </thead>\n",
       "  <tbody>\n",
       "    <tr>\n",
       "      <th>S3=1</th>\n",
       "      <td>0.073720</td>\n",
       "    </tr>\n",
       "    <tr>\n",
       "      <th>S3=2</th>\n",
       "      <td>0.381741</td>\n",
       "    </tr>\n",
       "    <tr>\n",
       "      <th>S3=3</th>\n",
       "      <td>0.663956</td>\n",
       "    </tr>\n",
       "    <tr>\n",
       "      <th>S3=4</th>\n",
       "      <td>0.850852</td>\n",
       "    </tr>\n",
       "    <tr>\n",
       "      <th>S3=5</th>\n",
       "      <td>1.000000</td>\n",
       "    </tr>\n",
       "  </tbody>\n",
       "</table>\n",
       "</div>"
      ],
      "text/plain": [
       "            S2\n",
       "S3=1  0.073720\n",
       "S3=2  0.381741\n",
       "S3=3  0.663956\n",
       "S3=4  0.850852\n",
       "S3=5  1.000000"
      ]
     },
     "execution_count": 5,
     "metadata": {},
     "output_type": "execute_result"
    }
   ],
   "source": [
    "def Psi_2(skill_s3):\n",
    "    value = P(\"S2\") * (1 - CondP_Black_Winning(Skills(\"S2\"), skill_s3)) * Phi_Tild_1(Skills(\"S2\"),skill_s3)\n",
    "    return value.sum()\n",
    "\n",
    "table = np.array([Psi_2(x) for x in Skills(\"S3\")])\n",
    "table /= table.max()  # Normalizes\n",
    "pd.DataFrame(data=table,index=[\"S3=1\",\"S3=2\",\"S3=3\",\"S3=4\",\"S3=5\"], columns=[\"S2\"])"
   ]
  },
  {
   "cell_type": "markdown",
   "metadata": {},
   "source": [
    "#### Above table represents scaled $ \\Psi_{2}(S_{3})$ function"
   ]
  },
  {
   "cell_type": "code",
   "execution_count": 6,
   "metadata": {},
   "outputs": [
    {
     "data": {
      "text/html": [
       "<div>\n",
       "<style>\n",
       "    .dataframe thead tr:only-child th {\n",
       "        text-align: right;\n",
       "    }\n",
       "\n",
       "    .dataframe thead th {\n",
       "        text-align: left;\n",
       "    }\n",
       "\n",
       "    .dataframe tbody tr th {\n",
       "        vertical-align: top;\n",
       "    }\n",
       "</style>\n",
       "<table border=\"1\" class=\"dataframe\">\n",
       "  <thead>\n",
       "    <tr style=\"text-align: right;\">\n",
       "      <th></th>\n",
       "      <th>S2</th>\n",
       "    </tr>\n",
       "  </thead>\n",
       "  <tbody>\n",
       "    <tr>\n",
       "      <th>S3=1</th>\n",
       "      <td>1.0</td>\n",
       "    </tr>\n",
       "    <tr>\n",
       "      <th>S3=2</th>\n",
       "      <td>1.0</td>\n",
       "    </tr>\n",
       "    <tr>\n",
       "      <th>S3=3</th>\n",
       "      <td>1.0</td>\n",
       "    </tr>\n",
       "    <tr>\n",
       "      <th>S3=4</th>\n",
       "      <td>1.0</td>\n",
       "    </tr>\n",
       "    <tr>\n",
       "      <th>S3=5</th>\n",
       "      <td>1.0</td>\n",
       "    </tr>\n",
       "  </tbody>\n",
       "</table>\n",
       "</div>"
      ],
      "text/plain": [
       "       S2\n",
       "S3=1  1.0\n",
       "S3=2  1.0\n",
       "S3=3  1.0\n",
       "S3=4  1.0\n",
       "S3=5  1.0"
      ]
     },
     "execution_count": 6,
     "metadata": {},
     "output_type": "execute_result"
    }
   ],
   "source": [
    "def Psi_1():\n",
    "    return P(\"S3\")\n",
    "\n",
    "table = Psi_1() / Psi_1().max() # Normalizes the value\n",
    "pd.DataFrame(data=table,index=[\"S3=1\",\"S3=2\",\"S3=3\",\"S3=4\",\"S3=5\"], columns=[\"S2\"])"
   ]
  },
  {
   "cell_type": "markdown",
   "metadata": {},
   "source": [
    "#### Above table represents scaled $ \\Psi_{1}(S_{3})$ function"
   ]
  },
  {
   "cell_type": "markdown",
   "metadata": {},
   "source": [
    "![title](img/2g.png)"
   ]
  },
  {
   "cell_type": "markdown",
   "metadata": {},
   "source": [
    "# Answer"
   ]
  },
  {
   "cell_type": "code",
   "execution_count": 15,
   "metadata": {},
   "outputs": [
    {
     "name": "stdout",
     "output_type": "stream",
     "text": [
      "Normalized Posterior: [ 0.02481934  0.12852067  0.2235339   0.28645629  0.33666981]\n",
      "Prior: [ 0.2  0.2  0.2  0.2  0.2]\n"
     ]
    }
   ],
   "source": [
    "def Posterior():\n",
    "    return np.array([Psi_2(x) for x in Skills(\"S3\")]) * Psi_1()\n",
    "def Prior():\n",
    "    return np.array(P(\"S3\"))\n",
    "\n",
    "print(\"Normalized Posterior: {}\".format(Posterior() / Posterior().sum() ))\n",
    "print(\"Prior: {}\".format(Prior()))"
   ]
  },
  {
   "cell_type": "code",
   "execution_count": 16,
   "metadata": {},
   "outputs": [
    {
     "data": {
      "image/png": "[encoded data removed]",
      "text/plain": [
       "<matplotlib.figure.Figure at 0x7f6e667ce550>"
      ]
     },
     "metadata": {},
     "output_type": "display_data"
    }
   ],
   "source": [
    "#data = pd.DataFrame({\"Skills\":Skills(\"S3\"),\"Posterior\":Posterior(),\"Prior\":Prior()})   \n",
    "plt.figure(figsize=(6,6))\n",
    "plt.bar(Skills(\"S3\")-0.2, Prior(),width=0.2,color='b',align='center')\n",
    "plt.bar(Skills(\"S3\"), Posterior()/Posterior().sum(),width=0.2,color='g',align='center')\n",
    "plt.show()"
   ]
  },
  {
   "cell_type": "markdown",
   "metadata": {},
   "source": [
    "#### Analysis\n",
    "The prior values indicate how likely is a player has certain skill level, which is equally likely (uniform) in our case for $S_{3}$.\n",
    "\n",
    "The posterior indicates how likely the discrete value for skillset of $S_{3}$ given the outcome of the matches. In this case ,as the skills of $S_{3}$ increases, the likely hood of the posterior increases. This tells us that it is more likely that $S_{3}$ has higher skills given the outcome of the matches."
   ]
  },
  {
   "cell_type": "markdown",
   "metadata": {},
   "source": [
    "![title](img/4a.png)"
   ]
  },
  {
   "cell_type": "markdown",
   "metadata": {},
   "source": [
    "### Answer\n",
    "\n",
    "According to the DAG graph, the expression factorizes as:\n",
    "\n",
    "$\\Bbb{p}[ p_{b}, p_{w} \\mid s_{b},s_{w}] =  \\Bbb{p}(p_{b} \\mid s_{b}) \\Bbb{p}(s_{b}) \\Bbb{p}(p_{w} \\mid s_{w}) \\Bbb{p}(s_{w})$\n",
    "\n",
    "As $s_{b_{k}},s_{w_{k}}$ observed, and $p^{k}_{b}$ and $p^{k}_{w}$ are d-seperated by $r^{k}$, we can factorizes to:\n",
    "\n",
    "$\\Bbb{p}[ p_{b}, p_{w} \\mid s_{b},s_{w}] = \\Bbb{p}(p_{b} \\mid s_{b})  \\Bbb{p}(p_{w} \\mid s_{w})$\n",
    "\n"
   ]
  },
  {
   "cell_type": "markdown",
   "metadata": {},
   "source": [
    "![title](img/4b.png)"
   ]
  },
  {
   "cell_type": "markdown",
   "metadata": {},
   "source": [
    "### Answer\n",
    "\n",
    "#### Derived independence from DAG\n",
    "\n",
    "$(p_{w} \\perp\\!\\!\\!\\perp S_{b})$  , $(p_{b} \\perp\\!\\!\\!\\perp S_{w})$   , $(S_{w} \\perp\\!\\!\\!\\perp S_{b})$  "
   ]
  },
  {
   "cell_type": "markdown",
   "metadata": {},
   "source": [
    "#### Given variables\n",
    "\n",
    "$\\theta = \\frac{(p_{w} - S_{w}) + (p_{b} - S_{b})}{\\sqrt 2 \\beta}$\n",
    "\n",
    "\n",
    "$\\psi = \\frac{(p_{w} - S_{w}) - (p_{b} - S_{b})}{\\sqrt 2 \\beta}$\n"
   ]
  },
  {
   "cell_type": "markdown",
   "metadata": {},
   "source": [
    "#### A. Conditional Expectation of $ \\mathbb{E}[\\theta \\mid S_{b},S_{w}]$ \n",
    "\n",
    "Substitue variable.\n",
    "\n",
    "$\\mathbb{E}[\\frac{(p_{w} - S_{w}) + (p_{b} - S_{b})}{\\sqrt 2 \\beta} \\mid S_{b}, S_{w} ]$\n",
    "\n",
    "Factor out the constant.\n",
    "\n",
    "$\\frac{1}{\\sqrt 2 \\beta} \\mathbb{E}[(p_{w} - S_{w}) + (p_{b} - S_{b})\\mid S_{b}, S_{w}] $\n",
    "\n",
    "Split the expectation using linearity of expectation.\n",
    "\n",
    "$\\frac{1}{\\sqrt 2 \\beta} \\mathbb{E}[p_{w}\\mid S_{b}, S_{w}] - \n",
    "\\mathbb{E}[S_{w}\\mid S_{b}, S_{w}] + \n",
    "\\mathbb{E}[p_{b}\\mid S_{b}, S_{w}] - \n",
    "\\mathbb{E}[S_{b}\\mid S_{b}, S_{w}] $\n",
    "\n",
    "Using rules of expectation given independence variable.\n",
    "\n",
    "$\\frac{1}{\\sqrt 2 \\beta} [S_{w} - S_{w} + S_{b} - S_{b}] $\n",
    "\n",
    "\n",
    "$\\frac{1}{\\sqrt 2 \\beta} (0) $\n",
    "\n",
    "\n",
    "Hence,\n",
    "\n",
    "$ \\mathbb{E}[\\theta \\mid S_{b},S_{w}] = 0$ "
   ]
  },
  {
   "cell_type": "markdown",
   "metadata": {},
   "source": [
    "\n",
    "#### B. Conditional Expectation of $ \\mathbb{E}[\\psi \\mid S_{b},S_{w}]$ \n",
    "\n",
    "Using same method as A, we can derive the following.\n",
    "\n",
    "$\\mathbb{E}[\\frac{(p_{w} - S_{w}) - (p_{b} - S_{b})}{\\sqrt 2 \\beta} \\mid S_{b}, S_{w} ]$\n",
    "\n",
    "$\\frac{1}{\\sqrt 2 \\beta} \\mathbb{E}[(p_{w} - S_{w}) - (p_{b} + S_{b})\\mid S_{b}, S_{w}] $\n",
    "\n",
    "$\\frac{1}{\\sqrt 2 \\beta} \\mathbb{E}[p_{w}\\mid S_{b}, S_{w}] - \n",
    "\\mathbb{E}[S_{w}\\mid S_{b}, S_{w}] - \n",
    "\\mathbb{E}[p_{b}\\mid S_{b}, S_{w}] - \n",
    "\\mathbb{E}[S_{b}\\mid S_{b}, S_{w}] $\n",
    "\n",
    "$\\frac{1}{\\sqrt 2 \\beta} [S_{w} - S_{w} - S_{b} + S_{b}] $\n",
    "\n",
    "\n",
    "$ \\mathbb{E}[\\psi \\mid S_{b},S_{w}] = 0 $ "
   ]
  },
  {
   "cell_type": "markdown",
   "metadata": {},
   "source": [
    "#### C. Conditional Expectation of $ \\mathbb{E}[\\theta^{2} \\mid S_{b},S_{w}]$ \n",
    "\n",
    "\n",
    "$ \\mathbb{E}[\\theta^{2} \\mid S_{b},S_{w}] = Var[\\theta \\mid S_{b}, S_{w}] +  \\mathbb{E}[\\theta \\mid S_{b},S_{w}]$ \n",
    "\n",
    "Substitute $ \\mathbb{E}[\\theta \\mid S_{b},S_{w}] = 0 $\n",
    "\n",
    "$ Var[\\theta \\mid S_{b}, S_{w} \\mid ] $\n",
    "\n",
    "$ Var[\\frac{(p_{w} - S_{w}) + (p_{b} - S_{b})}{\\sqrt 2 \\beta} \\mid S_{b}, S_{w} ]$\n",
    "\n",
    "$\\frac{1}{ 2 \\beta^{2}} Var[(p_{w} - S_{w}) + (p_{b} - S_{b})\\mid S_{b}, S_{w}] $\n",
    "\n",
    "\n",
    "$\\frac{1}{ 2 \\beta^{2}} [ Var(p_{w} \\mid S_{b}, S_{w}) +\n",
    "Var(S_{w} \\mid S_{b}, S_{w}) +\n",
    "Var(p_{b} \\mid S_{b}, S_{w}) +\n",
    "Var(S_{b} \\mid S_{b}, S_{w}) - \n",
    "Cov(p_{w}S_{w} \\mid S_{b}, S_{w}) +\n",
    "Cov(p_{w}p_{b} \\mid S_{b}, S_{w}) - \n",
    "Cov(p_{w}S_{b} \\mid S_{b}, S_{w}) -\n",
    "Cov(p_{b}S_{w} \\mid S_{b}, S_{w}) + \n",
    "Cov(S_{b}S_{w} \\mid S_{b}, S_{w}) - \n",
    "Cov(p_{b}S_{b} \\mid S_{b}, S_{w}) ]$\n",
    "\n",
    "\n",
    "Using conditional independence given by the DAG, we can derive:\n",
    "\n",
    "$Cov(p_{w}p_{b} \\mid S_{b}, S_{w})  = 0$\n",
    "\n",
    "$Cov(p_{w}S_{b} \\mid S_{b}, S_{w}) = 0$\n",
    "\n",
    "$Cov(p_{b}S_{w} \\mid S_{b}, S_{w}) = 0$\n",
    "\n",
    "$Cov(S_{b}S_{w} \\mid S_{b}, S_{w}) = 0$\n",
    "\n",
    "Additionally,\n",
    "\n",
    "$Cov(p_{w}S_{w} \\mid S_{b}, S_{w}) = 0$\n",
    "\n",
    "$Cov(p_{b}S_{b} \\mid S_{b}, S_{w}) = 0$\n",
    "\n",
    "Because\n",
    "\n",
    "$Cov(p_{w}S_{w} \\mid S_{b}, S_{w}) = \\mathbb{E}[(p_{w} - \\mathbb{E}[p_{w} \\mid S_{b}, S_{w}])(S_{w} - \\mathbb{E}[S_{w} \\mid S_{b}, S_{w}])]$\n",
    "\n",
    "$Cov(p_{w}S_{w} \\mid S_{b}, S_{w}) = \\mathbb{E}[(p_{w} - \\mathbb{E}[p_{w} \\mid S_{b}, S_{w}])(0)] = 0 $\n",
    "\n",
    "And\n",
    "\n",
    "\n",
    "$Cov(p_{b}S_{b} \\mid S_{b}, S_{w}) = \\mathbb{E}[(p_{b} - \\mathbb{E}[p_{b} \\mid S_{b}, S_{w}])(S_{b} - \\mathbb{E}[S_{b} \\mid S_{b}, S_{w}])]$\n",
    "\n",
    "$Cov(p_{b}S_{b} \\mid S_{b}, S_{w}) = \\mathbb{E}[(p_{b} - \\mathbb{E}[p_{b} \\mid S_{b}, S_{w}])(0)] = 0 $\n",
    "\n",
    "Since all the covariance are 0, we can derive:\n",
    "\n",
    "$\\mathbb{E}[\\theta^{2} \\mid S_{b},S_{w}] = \\frac{1}{ 2 \\beta^{2}} [ Var(p_{w} \\mid S_{b}, S_{w}) +\n",
    "Var(S_{w} \\mid S_{b}, S_{w}) +\n",
    "Var(p_{b} \\mid S_{b}, S_{w}) +\n",
    "Var(S_{b} \\mid S_{b}, S_{w})]$\n",
    "\n",
    "$\\mathbb{E}[\\theta^{2} \\mid S_{b},S_{w}] = \\frac{1}{ 2 \\beta^{2}} [  \\beta^{2} + 0 +  \\beta^{2} + 0] $\n",
    "\n",
    "Result: \n",
    "\n",
    "\n",
    "$\\mathbb{E}[\\theta^{2} \\mid S_{b},S_{w}] = 1 $\n",
    "\n",
    "\n"
   ]
  },
  {
   "cell_type": "markdown",
   "metadata": {},
   "source": [
    "#### D. Conditional Expectation of $ \\mathbb{E}[\\Psi^{2} \\mid S_{b},S_{w}]$ \n",
    "\n",
    "$ \\mathbb{E}[\\Psi^{2} \\mid S_{b},S_{w}] = Var[\\Psi \\mid S_{b}, S_{w}] +  \\mathbb{E}[\\Psi \\mid S_{b},S_{w}]$ \n",
    "\n",
    "$ Var[\\Psi \\mid S_{b}, S_{w} \\mid ] + 0 $\n",
    "\n",
    "$ Var[\\frac{(p_{w} - S_{w}) - (p_{b} - S_{b})}{\\sqrt 2 \\beta} \\mid S_{b}, S_{w} ]$\n",
    "\n",
    "$\\frac{1}{ 2 \\beta^{2}} Var[(p_{w} - S_{w}) - (p_{b} - S_{b})\\mid S_{b}, S_{w}] $\n",
    "\n",
    "\n",
    "$\\frac{1}{ 2 \\beta^{2}} [ Var(p_{w} \\mid S_{b}, S_{w}) +\n",
    "Var(S_{w} \\mid S_{b}, S_{w}) +\n",
    "Var(p_{b} \\mid S_{b}, S_{w}) +\n",
    "Var(S_{b} \\mid S_{b}, S_{w}) - \n",
    "Cov(p_{w}S_{w} \\mid S_{b}, S_{w}) +\n",
    "Cov(p_{w}p_{b} \\mid S_{b}, S_{w}) - \n",
    "Cov(p_{w}S_{b} \\mid S_{b}, S_{w}) -\n",
    "Cov(p_{b}S_{w} \\mid S_{b}, S_{w}) + \n",
    "Cov(S_{b}S_{w} \\mid S_{b}, S_{w}) - \n",
    "Cov(p_{b}S_{b} \\mid S_{b}, S_{w}) ]$\n",
    "\n",
    "All the covariance terms yeild zero.\n",
    "\n",
    "$\\mathbb{E}[\\Psi^{2} \\mid S_{b},S_{w}] = \\frac{1}{ 2 \\beta^{2}} [ Var(p_{w} \\mid S_{b}, S_{w}) +\n",
    "Var(S_{w} \\mid S_{b}, S_{w}) +\n",
    "Var(p_{b} \\mid S_{b}, S_{w}) +\n",
    "Var(S_{b} \\mid S_{b}, S_{w})]$\n",
    "\n",
    "$\\mathbb{E}[\\Psi^{2} \\mid S_{b},S_{w}] = \\frac{1}{ 2 \\beta^{2}} [  \\beta^{2} + 0 +  \\beta^{2} + 0] $\n",
    "\n",
    "Result: \n",
    "\n",
    "$\\mathbb{E}[\\Psi^{2} \\mid S_{b},S_{w}] = 1 $\n",
    "\n"
   ]
  },
  {
   "cell_type": "markdown",
   "metadata": {},
   "source": [
    "#### E. Conditional Expectation of $ \\mathbb{E}[\\theta \\Psi \\mid S_{b},S_{w}]$ \n",
    "\n",
    "Given \n",
    "\n",
    "$x^{2} - y^{2} = (x+y)(x-y)$\n",
    "\n",
    "$\\mathbb{E}[x^{2}] = Var(x) + (\\mathbb{E}[x])^{2}$ \n",
    "\n",
    "And results from above.\n",
    "\n",
    "We can derive:\n",
    "\n",
    "$ \\mathbb{E}[\\theta \\Psi \\mid S_{b},S_{w}]$  = $\\frac{1}{ 2 \\beta^{2}} \\mathbb{E}[(p_{w} - S_{w})^{2} - (p_{b} - S_{b})^{2} \\mid S_{b}, S_{w}]$\n",
    "\n",
    "= $\\frac{1}{ 2 \\beta^{2}} [ \\mathbb{E}[(p_{w} - S_{w})^{2}] - \\mathbb{E}[(p_{b} - S_{b})^{2} \\mid S_{b}, S_{w}] ]$\n",
    "\n",
    "\n",
    "= $\\frac{1}{ 2 \\beta^{2}} [ \\beta^{2} + 0 + [S_{w} - S_{w}]^{2} - \\beta^{2} + 0 + [S_{b} - S_{b}]^{2}]$\n",
    "\n",
    "= 0\n"
   ]
  },
  {
   "cell_type": "markdown",
   "metadata": {},
   "source": [
    "#### F.  Probability Density $\\mathbb{p}[\\theta,\\Psi \\mid S_{b}, S_{w}]$\n",
    "\n",
    "\n",
    "Based on previous devirations:\n",
    "\n",
    "\n",
    "$\\mu_{\\theta} = \\mathbb{E}[\\theta \\mid S_{b},S_{w}] = 0$\n",
    "\n",
    "$\\mu_{\\Psi} = \\mathbb{E}[\\Psi \\mid S_{b},S_{w}] = 0$\n",
    "\n",
    "$\\sigma^{2}_{\\theta} = \\mathbb{E}[\\theta^{2} \\mid S_{b},S_{w}] = 1$\n",
    "\n",
    "$\\sigma^{2}_{\\Psi} = \\mathbb{E}[\\Psi^{2} \\mid S_{b},S_{w}] = 1$\n",
    "\n",
    "$\\rho = \\frac{Conv(\\theta \\Psi)}{\\sigma_{\\theta} \\sigma_{\\psi}} = 0$\n",
    "\n",
    "Applying bivariate of multivariate normal distribution:\n",
    "\n",
    "$\\mathbb{p}[\\theta,\\Psi \\mid S_{b}, S_{w}] $\n",
    "\n",
    "$\\mathbb{p}[\\theta,\\Psi \\mid S_{b}, S_{w}]  = \\frac{1}{2\\pi \\mu_{\\theta} \\mu_{\\Psi} \\sqrt(1-\\rho^{2})} \n",
    "e^{\n",
    "- \\frac{1}{2(1-\\rho^{2})} \n",
    "[ \\frac{(\\theta - \\mu_{\\theta}^{2})^{2}} {\\sigma^{2}_{\\theta}} + \n",
    "\\frac{(\\Psi - \\mu_{\\Psi}^{2})^{2}} {\\sigma^{2}_{\\Psi}} - \n",
    "\\frac{2\\rho(\\theta - \\mu_{\\theta})(\\Psi - \\mu_{\\Psi})} {2 \\mu_{\\Theta} \\mu_{\\Psi}}\n",
    "]} $\n",
    "\n",
    "$\\mathbb{p}[\\theta,\\Psi \\mid S_{b}, S_{w}] = \\frac{1}{2\\pi}e^{- \\frac{\\theta^{2} + \\Psi^{2}} {2}}$"
   ]
  },
  {
   "cell_type": "markdown",
   "metadata": {},
   "source": [
    "![title](img/4c.png)"
   ]
  },
  {
   "cell_type": "markdown",
   "metadata": {},
   "source": [
    "### Answer\n",
    "\n",
    "\n",
    "Applying rule of normal differene distribution.\n",
    "\n",
    "$\\mathbb{P}[r = 1 \\mid S_{b}, S_{w}] = \\mathbb{P}[p_{b} > p_{w} \\mid S_{b}, S_{w}] = \\mathbb{P}[0 > - p_{b} + p_{w} \\mid S_{b}, S_{w}]$\n",
    "\n",
    "$\\mathbb{P}[r = 1 \\mid S_{b}, S_{w}] = \\int_{-\\inf}^{0} N (p_{w}-p_{b}, S_{w} - S_{b}, 2\\beta^{2})dx $\n",
    "\n",
    "Let x equals to $p_{w}-p_{b}$\n",
    "\n",
    "$\\mathbb{P}[r = 1 \\mid S_{b}, S_{w}] = \\int_{-\\inf}^{0} N (x, S_{w} - S_{b}, 2\\beta^{2})dx $\n",
    "\n",
    "If we sample from standard distribution using reparameterization trick, we can sampling x from $\\mu$ times $\\sigma$, then add $\\mu$ from the gaussian. We can integrate with standard distribution instead, which leads to.\n",
    "\n",
    "$\\mathbb{P}[r = 1 \\mid S_{b}, S_{w}] = \\int_{-\\inf}^{\\frac {S_{b} - S_{w}}{\\sqrt 2 \\beta}} N ( \\mu, 0, 1)du $\n",
    "\n",
    "if x = 0, then \n",
    "\n",
    "$\\mu = \\frac{S_{b} + S_{w}} {\\sqrt 2 \\beta} $\n",
    "\n",
    "The lower limits does not change when setting x to $-\\inf$\n"
   ]
  },
  {
   "cell_type": "markdown",
   "metadata": {},
   "source": [
    "![title](img/4d.png)"
   ]
  },
  {
   "cell_type": "markdown",
   "metadata": {},
   "source": [
    "### Answer\n",
    "\n",
    "$\\mathbb{P}[{r^{k}}^{N}_{k=1} \\mid {S_{i}}^{M}_{i=1}]$ \n",
    "\n",
    "Each match result is independent of one another, hence.\n",
    "\n",
    "$\\prod_{k=1}^{N} \\Phi [w[ (- \\mathbb{1}[r^{k} == 0])  +  (\\mathbb{1}(r^{k} == 1))] \\frac{ S_{b_{k}} - S_{w_{k}} } {\\sqrt 2 \\beta } ] , S_{b_{k}} , S_{w_{k}} \\in {S_{i}}^{M}_{i=1}$\n",
    "\n",
    "$- \\mathbb{1}[r^{k} == 0])$  The probability when white player won $K^{th}$ match.\n",
    "\n",
    "$ \\mathbb{1}[r^{k} == 1])$  The probability when white player black $K^{th}$ match.\n",
    "\n",
    "Given that there is the correct $S_{b_{k}} , S_{w_{k}} $ for each $r^{k}$"
   ]
  },
  {
   "cell_type": "markdown",
   "metadata": {},
   "source": [
    "![title](img/4e.png)"
   ]
  },
  {
   "cell_type": "markdown",
   "metadata": {},
   "source": [
    "### Answer\n",
    "\n",
    "Using Bayes rule:\n",
    "\n",
    "$\\mathbb{P}[{S^{i}}^{M}_{i=1} \\mid (r^{k})_{k=1}^{N}] = \n",
    "\\frac{\\mathbb{P}[(r^{k})_{k=1}^{N} \\mid {S^{i}}^{M}_{i=1}]\n",
    "\\mathbb{p}{S^{i}}^{M}_{i=1}}\n",
    "{\\mathbb{P}[(r^{k})_{k=1}^{N}}$\n",
    "\n",
    "$\\propto \\mathbb{P}[(r^{k})_{k=1}^{N} \\mid {S^{i}}^{M}_{i=1}]\n",
    "\\mathbb{p}{S^{i}}^{M}_{i=1} $\n",
    "\n",
    "\n",
    "Hence,\n",
    "\n",
    "$\\mathbb{P}[(r^{k})_{k=1}^{N} \\mid {S^{i}}^{M}_{i=1}] = \\prod_{k=1}^{N} \\Phi [S^{T} x^{k}]$\n",
    "\n",
    "This equation describes probability of player winning each game given skillsets, from the distribution given by below equaton.\n",
    "\n",
    "$\\mathbb{p}[{S^{i}}^{M}_{i=1}] = N(s ;m_{0}; V_{0})$\n",
    "\n"
   ]
  },
  {
   "cell_type": "markdown",
   "metadata": {
    "collapsed": true
   },
   "source": [
    "![title](img/3a-1.png)"
   ]
  },
  {
   "cell_type": "markdown",
   "metadata": {},
   "source": [
    "![title](img/3a-2.png)"
   ]
  },
  {
   "cell_type": "markdown",
   "metadata": {},
   "source": [
    "![title](img/3a-3.png)"
   ]
  },
  {
   "cell_type": "markdown",
   "metadata": {},
   "source": [
    "### Answer\n",
    "\n",
    "- The X-axis describes the differences of skills between two players. \n",
    "- The green true factors describe the likelihood of black player winning. Interestingly,  blackplayers always wins for s greater than 2.5\n",
    "- The orange approximate posterior describes the likelihood of s given outcome of the matches. \n",
    "- The blue approximate factor is a gaussian model that tries to match true factor (greenline).\n"
   ]
  },
  {
   "cell_type": "markdown",
   "metadata": {},
   "source": [
    "![title](img/3b.png)"
   ]
  },
  {
   "cell_type": "markdown",
   "metadata": {},
   "source": [
    "### Answer"
   ]
  },
  {
   "cell_type": "code",
   "execution_count": 83,
   "metadata": {},
   "outputs": [],
   "source": [
    "def normpdf(x, mu, sigma):\n",
    "    u = (x-mu)/np.abs(sigma)\n",
    "    y = (1/(np.sqrt(2*np.pi)*np.abs(sigma)))*np.exp(-u*u/2)\n",
    "    return y\n",
    "\n",
    "def plotApproximatePosterior(filename):\n",
    "    package = np.load(filename, mmap_mode='r')\n",
    "    package = dict(zip((k for k in package), (package[k] for k in package)))\n",
    "    \n",
    "    data = dict()\n",
    "    \n",
    "    #Stadard deviation\n",
    "    if (filename == 'full_covar.npz'):\n",
    "        data[\"alpha_go_std\"] = np.sqrt(package[\"approx_covar\"][package[\"alpha_go_id\"]][package[\"alpha_go_id\"]])\n",
    "        data[\"lee_sedol_std\"] = np.sqrt(package[\"approx_covar\"][package[\"lee_sedol_id\"]][package[\"lee_sedol_id\"]])\n",
    "        data[\"ke_jie_std\"] = np.sqrt(package[\"approx_covar\"][package[\"ke_jie_id\"]][package[\"ke_jie_id\"]])\n",
    "    else:\n",
    "        data[\"alpha_go_std\"] = np.sqrt(package[\"approx_covar\"][package[\"alpha_go_id\"]])\n",
    "        data[\"lee_sedol_std\"] = np.sqrt(package[\"approx_covar\"][package[\"lee_sedol_id\"]])\n",
    "        data[\"ke_jie_std\"] = np.sqrt(package[\"approx_covar\"][package[\"ke_jie_id\"]])\n",
    "    \n",
    "    #Average\n",
    "    data[\"alpha_go_avg\"] = package[\"approx_mean\"][package[\"alpha_go_id\"]]\n",
    "    data[\"lee_sedol_avg\"] = package[\"approx_mean\"][package[\"lee_sedol_id\"]]\n",
    "    data[\"ke_jie_avg\"] = package[\"approx_mean\"][package[\"ke_jie_id\"]]\n",
    "    \n",
    "    x = np.linspace(0.0, 5.0, num=len(package[\"approx_covar\"]))\n",
    "    \n",
    "    plt.figure(figsize=(15,5))\n",
    "    plt.plot(x,normpdf(x,data[\"alpha_go_avg\"],data[\"alpha_go_std\"] ),label=\"alphago\")\n",
    "    plt.plot(x,normpdf(x,data[\"lee_sedol_avg\"],data[\"lee_sedol_std\"] ), label=\"lee sedol\")\n",
    "    plt.plot(x,normpdf(x,data[\"ke_jie_avg\"],data[\"ke_jie_std\"] ), label=\"ke jie\")\n",
    "    plt.xlabel(\"S\")\n",
    "    plt.ylabel(\"p(S)\")\n",
    "    plt.legend()\n",
    "    plt.show()"
   ]
  },
  {
   "cell_type": "markdown",
   "metadata": {},
   "source": [
    "### Approximate Posterior for diagonal covariance model"
   ]
  },
  {
   "cell_type": "code",
   "execution_count": 84,
   "metadata": {},
   "outputs": [
    {
     "data": {
      "image/png": "[encoded data removed]",
      "text/plain": [
       "<matplotlib.figure.Figure at 0x7fefcc5e7910>"
      ]
     },
     "metadata": {},
     "output_type": "display_data"
    }
   ],
   "source": [
    "plotApproximatePosterior('diag_covar.npz')"
   ]
  },
  {
   "cell_type": "markdown",
   "metadata": {},
   "source": [
    "### Approximate Posterior for full covariance model"
   ]
  },
  {
   "cell_type": "code",
   "execution_count": 135,
   "metadata": {},
   "outputs": [
    {
     "data": {
      "image/png": "[encoded data removed]",
      "text/plain": [
       "<matplotlib.figure.Figure at 0x7fefcc5b0790>"
      ]
     },
     "metadata": {},
     "output_type": "display_data"
    }
   ],
   "source": [
    "plotApproximatePosterior('full_covar.npz')"
   ]
  },
  {
   "cell_type": "markdown",
   "metadata": {},
   "source": [
    "#### Analysis: \n",
    "\n",
    "AlphaGo has greater variance in both figure which suggests high variation (uncertainty) of skill. Lee Sedol and Ke Jie have low variances of their approximate posterior marginal skills, which suggests their performance are more consistent than AlphaGo players. \n",
    "\n",
    "The skills for covariance model are higher than diagonal model as suggested by the average. "
   ]
  },
  {
   "cell_type": "markdown",
   "metadata": {},
   "source": [
    "![title](img/3c.png)"
   ]
  },
  {
   "cell_type": "markdown",
   "metadata": {},
   "source": [
    "### Answer"
   ]
  },
  {
   "cell_type": "code",
   "execution_count": 184,
   "metadata": {},
   "outputs": [
    {
     "name": "stdout",
     "output_type": "stream",
     "text": [
      "Probability of black winings when AlphaGo plays as black and Ke Jie as white\n",
      "Probability of full covariance: 0.616141354569\n",
      "Probability of diagonal covariance: 0.692544195717\n"
     ]
    }
   ],
   "source": [
    "from scipy.stats import norm\n",
    "\n",
    "full = np.load('full_covar.npz')\n",
    "diag = np.load('diag_covar.npz')\n",
    "\n",
    "x_star = np.zeros((full[\"n_players\"]))\n",
    "\n",
    "#Seletion\n",
    "#Black\n",
    "x_star[full[\"alpha_go_id\"]] = 1.0 / np.sqrt(2)\n",
    "\n",
    "#White\n",
    "x_star[full[\"ke_jie_id\"]] = -1.0 / np.sqrt(2)\n",
    "\n",
    "\n",
    "\n",
    "#Calculate CDF\n",
    "full_prob = norm.cdf(( np.matmul(full[\"approx_mean\"],x_star) ) \n",
    "                     / np.sqrt(np.matmul(np.matmul(np.transpose(x_star) , full[\"approx_covar\"]), x_star) + 1))\n",
    "\n",
    "diag_prob = norm.cdf(( np.matmul(diag[\"approx_mean\"], x_star )) \n",
    "                     / np.sqrt(np.matmul(np.matmul(np.transpose(x_star) , np.diag(diag[\"approx_covar\"])), x_star ) + 1))\n",
    "\n",
    "#Output\n",
    "print(\"Probability of black winings when AlphaGo plays as black and Ke Jie as white\")\n",
    "print(\"Probability of full covariance: {}\".format(full_prob))\n",
    "print(\"Probability of diagonal covariance: {}\".format(diag_prob))"
   ]
  },
  {
   "cell_type": "markdown",
   "metadata": {},
   "source": [
    "![title](img/3d.png)"
   ]
  },
  {
   "cell_type": "markdown",
   "metadata": {},
   "source": [
    "### Answer\n",
    "\n",
    "We can probably derive the number of parameters based on the guassian equation given, this leads to the number of independent parameters is the mean and its covariance.\n",
    "\n",
    "Reference \n",
    "https://stats.stackexchange.com/questions/280893/number-of-parameters-in-multivariate-gaussian-for-different-covariance-matrices\n",
    "\n",
    "\n",
    "For Diagonal covariance, the number of parameter is the sum of size of M, and the size of V, which is M.  Hence\n",
    "\n",
    "$M + M = 2098$\n",
    "\n",
    "For full covariance, the covariance matrix is symmetrical, there's the same covariance twice. \n",
    "\n",
    "$M + \\sum\\limits_{i=0}^M M-i = 1049 + 550725 = 551774$\n"
   ]
  },
  {
   "cell_type": "code",
   "execution_count": 191,
   "metadata": {},
   "outputs": [
    {
     "name": "stdout",
     "output_type": "stream",
     "text": [
      "(1049,)\n",
      "(1049,)\n",
      "(1049,)\n",
      "(1049, 1049)\n"
     ]
    }
   ],
   "source": [
    "full = np.load('full_covar.npz')\n",
    "diag = np.load('diag_covar.npz')\n",
    "\n",
    "print(diag[\"approx_mean\"].shape)\n",
    "print(diag[\"approx_covar\"].shape)\n",
    "print(full[\"approx_mean\"].shape)\n",
    "print(full[\"approx_covar\"].shape)"
   ]
  },
  {
   "cell_type": "markdown",
   "metadata": {},
   "source": [
    "![title](img/3e.png)"
   ]
  },
  {
   "cell_type": "markdown",
   "metadata": {},
   "source": [
    "### Answer\n",
    "\n",
    "Full covariance matrix do not assume independence of skills of the players given previous reslts. This will probably gives out better expectation propagation approximation. \n",
    "\n",
    "Diagonal covariance makes independent assumption of skills, probably at the benefit of less parameters and efficiency at the expense of accuracy. "
   ]
  },
  {
   "cell_type": "markdown",
   "metadata": {},
   "source": [
    "![title](img/3f.png)"
   ]
  },
  {
   "cell_type": "markdown",
   "metadata": {},
   "source": [
    "### Answer\n",
    "\n",
    "The skill model makes an assumption that performance of player based only on their skill value as implied by DAG. This is probably not realistic as there can be countless other factors.\n",
    "\n",
    "Some of the factors could be:\n",
    "1. whether a player has played one another before.\n",
    "2. time, month, and year of the game\n",
    "3. the location of the game, whether it is a home city of a player\n",
    "4. whether is this the first game of the day\n",
    "5. total matches played by player\n",
    "\n",
    "The new model introduces new variable where the relationship may not be defined or hard to observe. "
   ]
  },
  {
   "cell_type": "markdown",
   "metadata": {},
   "source": [
    "![title](img/appendix1.png)"
   ]
  },
  {
   "cell_type": "markdown",
   "metadata": {},
   "source": [
    "![title](img/appendix2.png)"
   ]
  }
 ],
 "metadata": {
  "kernelspec": {
   "display_name": "Python 2",
   "language": "python",
   "name": "python2"
  },
  "language_info": {
   "codemirror_mode": {
    "name": "ipython",
    "version": 2
   },
   "file_extension": ".py",
   "mimetype": "text/x-python",
   "name": "python",
   "nbconvert_exporter": "python",
   "pygments_lexer": "ipython2",
   "version": "2.7.13"
  }
 },
 "nbformat": 4,
 "nbformat_minor": 2
}
