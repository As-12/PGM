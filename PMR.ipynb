{
 "cells": [
  {
   "cell_type": "code",
   "execution_count": 4,
   "metadata": {
    "collapsed": true
   },
   "outputs": [],
   "source": [
    "# Import packages\n",
    "from __future__ import division, print_function # Imports from __future__ since we're running Python 2\n",
    "import os\n",
    "import numpy as np \n",
    "import pandas as pd\n",
    "import matplotlib.pyplot as plt\n",
    "import seaborn as sns\n",
    "from sklearn.naive_bayes import MultinomialNB\n",
    "from sklearn.metrics import accuracy_score, confusion_matrix\n",
    "%matplotlib inline"
   ]
  },
  {
   "cell_type": "markdown",
   "metadata": {},
   "source": [
    "# Probabilistic Modelling Assignment (INFR 100000)  2017-2018\n",
    "\n",
    "## UUN: S1778742"
   ]
  },
  {
   "cell_type": "markdown",
   "metadata": {},
   "source": [
    "![title](img/introduction.png)"
   ]
  },
  {
   "cell_type": "markdown",
   "metadata": {},
   "source": [
    "![title](img/notation.png)"
   ]
  },
  {
   "cell_type": "markdown",
   "metadata": {},
   "source": [
    "![title](img/question1.png)"
   ]
  },
  {
   "cell_type": "markdown",
   "metadata": {},
   "source": [
    "![title](img/1a.png)"
   ]
  },
  {
   "cell_type": "markdown",
   "metadata": {},
   "source": [
    "### Answer\n",
    "![title](img/1a-ans1.png)"
   ]
  },
  {
   "cell_type": "markdown",
   "metadata": {},
   "source": [
    "![title](img/1b.png)"
   ]
  },
  {
   "cell_type": "markdown",
   "metadata": {},
   "source": [
    "### Answer\n",
    "### $(S_{1} \\perp\\!\\!\\!\\perp S_{2}) \\mid r^{2}$  "
   ]
  },
  {
   "cell_type": "markdown",
   "metadata": {},
   "source": [
    "This statement is conditionally independent, because all of the path from S1 to S2 are d-seperated. \n",
    "\n",
    "There are two path between S1 and S2.\n",
    " 1. $S_{1}$ - $r^{1}$ - $S_{2}$ \n",
    "  - This is blocked by $r^{1}$, since it is a collider. \n",
    "  \n",
    "  \n",
    " 2. $S_{1}$ - $r^{3}$ - $S_{3}$ - $r_{2}$ - $S_{2}$ \n",
    "  - $S_{1}$ to  $S_{3}$ is blocked by $r^{3}$ as it is a collider.\n",
    "  - After $r^{2}$ is observed, the path between $S_{3}$ and $S_{2}$ becomes unblocked.\n",
    "  - There is at least one blocked path.\n",
    "\n",
    "Since every available path are blocked between $S_{1}$ and $S_{2}$. There are considered conditionally independent."
   ]
  },
  {
   "cell_type": "markdown",
   "metadata": {},
   "source": [
    "### $(S_{1} \\not\\perp\\!\\!\\!\\perp S_{2}) \\mid r^{2},r^{3}$"
   ]
  },
  {
   "cell_type": "markdown",
   "metadata": {},
   "source": [
    "This statement is NOT conditionally independent, because not every path from S1 to S2 are d-seperated. \n",
    "\n",
    "There are two path between S1 and S2.\n",
    " 1. $S_{1}$ - $r^{1}$ - $S_{2}$ \n",
    "  - This is blocked by $r^{1}$, since it is a collider. \n",
    "  \n",
    "  \n",
    " 2. $S_{1}$ - $r^{3}$ - $S_{3}$ - $r_{2}$ - $S_{2}$\n",
    "  - After $r^{3}$ is observed, the path between $S_{1}$ and $S_{3}$ becomes unblocked. \n",
    "  - After $r^{2}$ is observed, the path between $S_{3}$ and $S_{2}$ becomes unblocked.\n",
    "  - There is no blocked path from $S_{1}$ and $S_{2}$. Therefore, they are not conditionall independent.\n"
   ]
  },
  {
   "cell_type": "markdown",
   "metadata": {},
   "source": [
    "![title](img/1c.png)"
   ]
  },
  {
   "cell_type": "markdown",
   "metadata": {},
   "source": [
    "### Answer"
   ]
  },
  {
   "cell_type": "markdown",
   "metadata": {},
   "source": [
    "![title](img/1c-ans1.png)"
   ]
  },
  {
   "cell_type": "markdown",
   "metadata": {},
   "source": [
    "![title](img/1d.png)"
   ]
  },
  {
   "cell_type": "markdown",
   "metadata": {},
   "source": [
    "### Answer\n",
    "![title](img/1d-ans1.png)"
   ]
  },
  {
   "cell_type": "markdown",
   "metadata": {},
   "source": [
    "![title](img/2a.png)"
   ]
  },
  {
   "cell_type": "markdown",
   "metadata": {},
   "source": [
    "### Answer\n",
    "$ \\Bbb{P} [S_{1},S_{2},S_{3},r_{1},r_{2},r_{3}] = \n",
    "\\Bbb{P}(S_{1}) \n",
    "\\Bbb{P}(S_{2}) \n",
    "\\Bbb{P}(S_{3}) \n",
    "\\Bbb{P}(r^{1} \\mid S_{1}, S_{2}) \n",
    "\\Bbb{P}(r^{2} \\mid S_{2}, S_{3})\n",
    "\\Bbb{P}(r^{3} \\mid S_{1}, S_{3})$\n",
    "\n",
    "1. $\\Bbb{P}(S_{1})$ : Prior probability of $S_{1}$ having certain level of skills.\n",
    "2. $\\Bbb{P}(S_{2})$ : Prior probability of $S_{2}$ having certain level of skills.\n",
    "3. $\\Bbb{P}(S_{3})$ : Prior probability of $S_{3}$ having certain level of skills.\n",
    "4. $\\Bbb{P}(r^{1} \\mid S_{1}, S_{2}) $ : Posterior probability of game1 outcome given skills of $S_{1}$ and $S_{2}$.\n",
    "5. $\\Bbb{P}(r^{2} \\mid S_{2}, S_{3}) $ : Posterior probability of game2 outcome given skills of $S_{2}$ and $S_{3}$.\n",
    "6. $\\Bbb{P}(r^{3} \\mid S_{1}, S_{3}) $ : Posterior probability of game3 outcome given skills of $S_{1}$ and $S_{3}$."
   ]
  },
  {
   "cell_type": "markdown",
   "metadata": {},
   "source": [
    "![title](img/2b.png)"
   ]
  },
  {
   "cell_type": "markdown",
   "metadata": {},
   "source": [
    "### Answer\n",
    "\n",
    "1. $\\Phi_{1}(S_{1}) = \\Bbb{P}(S_{1})$\n",
    "2. $\\Phi_{2}(S_{2}) = \\Bbb{P}(S_{2})$\n",
    "3. $\\Phi_{3}(S_{3}) = \\Bbb{P}(S_{3})$\n",
    "4. $\\Phi_{A}(r^{1}, S_{1}, S_{2}) = \\Bbb{P}(r^{1} \\mid S_{1}, S_{2}) $\n",
    "5. $\\Phi_{B}(r^{2}, S_{1}, S_{2}) = \\Bbb{P}(r^{2} \\mid S_{2}, S_{3}) $\n",
    "6. $\\Phi_{C}(r^{3}, S_{3}, S_{1}) = \\Bbb{P}(r^{3} \\mid S_{3}, S_{1}) $"
   ]
  },
  {
   "cell_type": "markdown",
   "metadata": {},
   "source": [
    "![title](img/2c.png)"
   ]
  },
  {
   "cell_type": "markdown",
   "metadata": {},
   "source": [
    "![title](img/2c-ans1.png)"
   ]
  },
  {
   "cell_type": "markdown",
   "metadata": {},
   "source": [
    "### Answer\n",
    "\n",
    "1. $\\Phi_{1}(S_{1}) = \\Bbb{P}(S_{1})$\n",
    "2. $\\Phi_{2}(S_{2}) = \\Bbb{P}(S_{2})$\n",
    "3. $\\Phi_{3}(S_{3}) = \\Bbb{P}(S_{3})$\n",
    "4. $\\Phi_{y}( S_{1}, S_{2}) = \\Bbb{P}(r^{1} = 1 \\mid S_{1}, S_{2}) $\n",
    "5. $\\Phi_{w}( S_{2}, S_{3}) = \\Bbb{P}(r^{2} = 0 \\mid S_{2}, S_{3}) $\n",
    "6. $\\Phi_{x}( S_{3}, S_{1}) = \\Bbb{P}(r^{3} = 1 \\mid S_{3}, S_{1}) $"
   ]
  },
  {
   "cell_type": "markdown",
   "metadata": {},
   "source": [
    "![title](img/2d-1.png)"
   ]
  },
  {
   "cell_type": "markdown",
   "metadata": {},
   "source": [
    "![title](img/2d-2.png)"
   ]
  },
  {
   "cell_type": "markdown",
   "metadata": {},
   "source": [
    "### Answer\n",
    "No. Standard message passing is not possible since there's a loop in the graph, and it is not a tree."
   ]
  },
  {
   "cell_type": "markdown",
   "metadata": {},
   "source": [
    "![title](img/2e.png)"
   ]
  },
  {
   "cell_type": "markdown",
   "metadata": {},
   "source": [
    "### Answer"
   ]
  },
  {
   "cell_type": "markdown",
   "metadata": {},
   "source": [
    "![title](img/2e-ans1.png)"
   ]
  },
  {
   "cell_type": "markdown",
   "metadata": {},
   "source": [
    "For $\\Bbb{P}( S_{2}, S_{3} \\mid r^{1} = 1,r^{2} = 0,r^{3} = 1) $\n",
    "\n",
    "Factorizes to:\n",
    "\n",
    "$\\Phi_{2}(S_{2}) \\Phi_{3}(S_{3}) \\Phi_{w}( S_{2}, S_{3}) \\Phi_{1}(S_{1}) \\Phi_{y}( S_{1}, S_{2}) \\Phi_{x}( S_{3}, S_{1})$\n",
    "\n",
    "Marginalizing S1 results in:\n",
    "\n",
    "$\\Phi_{2}(S_{2}) \\Phi_{3}(S_{3}) \\Phi_{w}( S_{2}, S_{3}) \\sum_{S_{1}=k} \\Phi_{1}(S_{1}) \\Phi_{y}( S_{1}, S_{2}) \\Phi_{x}( S_{3}, S_{1})$\n",
    "\n",
    "Eliminate S1:\n",
    "\n",
    "$\\Phi_{2}(S_{2}) \\Phi_{3}(S_{3}) \\Phi_{w}( S_{2}, S_{3})  \\Phi_{\\tilde~1}( S_{2}, S_{3}) $ \n",
    "\n",
    "Each potential represents:\n",
    "\n",
    "1. $\\Phi_{2}(S_{2}) = \\Bbb{P}(S_{2})$\n",
    "2. $\\Phi_{3}(S_{3}) = \\Bbb{P}(S_{3})$\n",
    "3. $\\Phi_{w}( S_{2}, S_{3}) = \\Bbb{P}(r^{2} = 0 \\mid S_{2}, S_{3}) $\n",
    "4. $\\Phi_{\\tilde~1}( S_{2}, S_{3}) = \\sum_{S_{1}=k} \\Phi_{1}(S_{1}) \\Phi_{y}( S_{1}, S_{2}) \\Phi_{x}( S_{3}, S_{1}) = \\sum_{S_{1}=k} \\Bbb{P}(S_{1}) \\Bbb{P}(r^{1} = 1 \\mid S_{1}, S_{2}) \\Bbb{P}(r^{3} = 1 \\mid S_{3}, S_{1}) $"
   ]
  },
  {
   "cell_type": "code",
   "execution_count": 33,
   "metadata": {
    "collapsed": true
   },
   "outputs": [],
   "source": [
    "def P(var):\n",
    "    \"\"\"\n",
    "    This function returns prior probability array of variable.\n",
    "    \"\"\"\n",
    "    if var == \"S1\":\n",
    "        return np.array([0.01, 0.01, 0.08, 0.2, 0.7])\n",
    "    if var == \"S2\":\n",
    "        return np.array([0.02, 0.02, 0.06, 0.3, 0.6])\n",
    "    if var == \"S3\":\n",
    "        return np.array([0.2, 0.2, 0.2, 0.2, 0.2])\n",
    "    \n",
    "    assert False, str(var) + \" does not exist.\"\n",
    "    \n",
    "\n",
    "def Skills(var):\n",
    "    \"\"\"\n",
    "    This function returns numerical skill value array of variable.\n",
    "    \"\"\"\n",
    "    if var == \"S1\":\n",
    "        return np.array([1,2,3,4,5])\n",
    "    if var == \"S2\":\n",
    "        return np.array([1,2,3,4,5])\n",
    "    if var == \"S3\":\n",
    "        return np.array([1,2,3,4,5])\n",
    "\n",
    "    assert False, str(var) + \" does not exist.\"\n",
    "    \n",
    "\n",
    "def CondP_Black_Winning(skill_black, skill_white):\n",
    "    \"\"\"\n",
    "    Calculate conditonal probability distribution whether a game will win, given the skill of 2 players.\n",
    "    \"\"\"\n",
    "    return 0.0052 * (skill_black -  skill_white)**3 + 0.0292 * (skill_black - skill_white) + 0.5\n",
    "\n",
    "def Phi_Tild_1(skill_s2, skill_s3):\n",
    "    \"\"\"\n",
    "    Function that marginalizes S1 given S2 and S3\n",
    "    \"\"\"\n",
    "    #for skill_s1,prob_s1 in zip(Skills(\"S1\"),P(\"S1\")):\n",
    "    #    value += prob_s1 * CondP_Black_Winning(skill_s2,skill_s3) * CondP_Black_Winning(skill_s3,skill_s1)\n",
    "    value = P(\"S1\") * CondP_Black_Winning(Skills(\"S1\"),skill_s2) * CondP_Black_Winning(skill_s3,Skills(\"S1\"))\n",
    "    return value.sum()"
   ]
  },
  {
   "cell_type": "code",
   "execution_count": 36,
   "metadata": {},
   "outputs": [
    {
     "data": {
      "text/html": [
       "<div>\n",
       "<style>\n",
       "    .dataframe thead tr:only-child th {\n",
       "        text-align: right;\n",
       "    }\n",
       "\n",
       "    .dataframe thead th {\n",
       "        text-align: left;\n",
       "    }\n",
       "\n",
       "    .dataframe tbody tr th {\n",
       "        vertical-align: top;\n",
       "    }\n",
       "</style>\n",
       "<table border=\"1\" class=\"dataframe\">\n",
       "  <thead>\n",
       "    <tr style=\"text-align: right;\">\n",
       "      <th></th>\n",
       "      <th>S3=1</th>\n",
       "      <th>S3=2</th>\n",
       "      <th>S3=3</th>\n",
       "      <th>S3=4</th>\n",
       "      <th>S3=5</th>\n",
       "    </tr>\n",
       "  </thead>\n",
       "  <tbody>\n",
       "    <tr>\n",
       "      <th>S2=1</th>\n",
       "      <td>0.097293</td>\n",
       "      <td>0.266737</td>\n",
       "      <td>0.363535</td>\n",
       "      <td>0.414791</td>\n",
       "      <td>0.447607</td>\n",
       "    </tr>\n",
       "    <tr>\n",
       "      <th>S2=2</th>\n",
       "      <td>0.080081</td>\n",
       "      <td>0.211505</td>\n",
       "      <td>0.286554</td>\n",
       "      <td>0.326506</td>\n",
       "      <td>0.352641</td>\n",
       "    </tr>\n",
       "    <tr>\n",
       "      <th>S2=3</th>\n",
       "      <td>0.070407</td>\n",
       "      <td>0.180082</td>\n",
       "      <td>0.242651</td>\n",
       "      <td>0.276074</td>\n",
       "      <td>0.298305</td>\n",
       "    </tr>\n",
       "    <tr>\n",
       "      <th>S2=4</th>\n",
       "      <td>0.064175</td>\n",
       "      <td>0.162546</td>\n",
       "      <td>0.218586</td>\n",
       "      <td>0.248457</td>\n",
       "      <td>0.268324</td>\n",
       "    </tr>\n",
       "    <tr>\n",
       "      <th>S2=5</th>\n",
       "      <td>0.057287</td>\n",
       "      <td>0.148977</td>\n",
       "      <td>0.201113</td>\n",
       "      <td>0.228620</td>\n",
       "      <td>0.246422</td>\n",
       "    </tr>\n",
       "  </tbody>\n",
       "</table>\n",
       "</div>"
      ],
      "text/plain": [
       "          S3=1      S3=2      S3=3      S3=4      S3=5\n",
       "S2=1  0.097293  0.266737  0.363535  0.414791  0.447607\n",
       "S2=2  0.080081  0.211505  0.286554  0.326506  0.352641\n",
       "S2=3  0.070407  0.180082  0.242651  0.276074  0.298305\n",
       "S2=4  0.064175  0.162546  0.218586  0.248457  0.268324\n",
       "S2=5  0.057287  0.148977  0.201113  0.228620  0.246422"
      ]
     },
     "execution_count": 36,
     "metadata": {},
     "output_type": "execute_result"
    }
   ],
   "source": [
    "table = []\n",
    "for skill_s2,prob_s2 in zip(Skills(\"S2\"),P(\"S2\")):\n",
    "    row = []\n",
    "    for skill_s3,prob_s3 in zip(Skills(\"S3\"),P(\"S3\")):\n",
    "        row.append(Phi_Tild_1(skill_s2,skill_s3))\n",
    "    table.append(row)\n",
    "table = np.array(table)\n",
    "\n",
    "pd.DataFrame(data=table,index=[\"S2=1\",\"S2=2\",\"S2=3\",\"S2=4\",\"S2=5\"], columns=[\"S3=1\",\"S3=2\",\"S3=3\",\"S3=4\",\"S3=5\"])"
   ]
  },
  {
   "cell_type": "markdown",
   "metadata": {},
   "source": [
    "##### Table above indicates value of $\\Phi_{\\tilde~1}( S_{2}, S_{3})$ given S3 and S2"
   ]
  },
  {
   "cell_type": "markdown",
   "metadata": {},
   "source": [
    "![title](img/2f.png)"
   ]
  },
  {
   "cell_type": "markdown",
   "metadata": {},
   "source": [
    "### Answer\n",
    "For $\\Phi_{2}(S_{2}) \\Phi_{3}(S_{3}) \\Phi_{w}( S_{2}, S_{3})  \\Phi_{\\tilde~1}( S_{2}, S_{3}) $ \n",
    "\n",
    "Marginalizing S2 results in:\n",
    "\n",
    "$ \\Phi_{3}(S_{3}) \\sum_{S_{2}=k} \\Phi_{2}(S_{2}) \\Phi_{w}( S_{2}, S_{3})   \\Phi_{\\tilde~1}( S_{2}, S_{3}) $ \n",
    "\n",
    "Eliminate S2:\n",
    "\n",
    "$ \\Psi_{1}(S_{3}) \\Psi_{2}(S_{3})  $ \n",
    "\n",
    "Each function represents:\n",
    "\n",
    "$ \\Psi_{1}(S_{3}) = \\Phi_{3}(S_{3}) $\n",
    "\n",
    "$ \\Psi_{2}(S_{3}) = \\sum_{S_{2}=k} \\Phi_{2}(S_{2}) \\Phi_{w}( S_{2}, S_{3})   \\Phi_{\\tilde~1}( S_{2}, S_{3}) $\n",
    "\n",
    "Note that:\n",
    "\n",
    "\n",
    "$\\Phi_{w}( S_{2}, S_{3}) = \\Bbb{P}(r^{2} = 0 \\mid S_{2}, S_{3}) = 1 - \\Bbb{P}(r^{2} = 1 \\mid S_{2}, S_{3})$"
   ]
  },
  {
   "cell_type": "code",
   "execution_count": 48,
   "metadata": {},
   "outputs": [
    {
     "data": {
      "text/html": [
       "<div>\n",
       "<style>\n",
       "    .dataframe thead tr:only-child th {\n",
       "        text-align: right;\n",
       "    }\n",
       "\n",
       "    .dataframe thead th {\n",
       "        text-align: left;\n",
       "    }\n",
       "\n",
       "    .dataframe tbody tr th {\n",
       "        vertical-align: top;\n",
       "    }\n",
       "</style>\n",
       "<table border=\"1\" class=\"dataframe\">\n",
       "  <thead>\n",
       "    <tr style=\"text-align: right;\">\n",
       "      <th></th>\n",
       "      <th>S2</th>\n",
       "    </tr>\n",
       "  </thead>\n",
       "  <tbody>\n",
       "    <tr>\n",
       "      <th>S3=1</th>\n",
       "      <td>0.073720</td>\n",
       "    </tr>\n",
       "    <tr>\n",
       "      <th>S3=2</th>\n",
       "      <td>0.381741</td>\n",
       "    </tr>\n",
       "    <tr>\n",
       "      <th>S3=3</th>\n",
       "      <td>0.663956</td>\n",
       "    </tr>\n",
       "    <tr>\n",
       "      <th>S3=4</th>\n",
       "      <td>0.850852</td>\n",
       "    </tr>\n",
       "    <tr>\n",
       "      <th>S3=5</th>\n",
       "      <td>1.000000</td>\n",
       "    </tr>\n",
       "  </tbody>\n",
       "</table>\n",
       "</div>"
      ],
      "text/plain": [
       "            S2\n",
       "S3=1  0.073720\n",
       "S3=2  0.381741\n",
       "S3=3  0.663956\n",
       "S3=4  0.850852\n",
       "S3=5  1.000000"
      ]
     },
     "execution_count": 48,
     "metadata": {},
     "output_type": "execute_result"
    }
   ],
   "source": [
    "def Psi_2(skill_s3):\n",
    "    value = P(\"S2\") * (1 - CondP_Black_Winning(Skills(\"S2\"), skill_s3)) * Phi_Tild_1(Skills(\"S2\"),skill_s3)\n",
    "    return value.sum()\n",
    "\n",
    "table = np.array([Psi_2(x) for x in Skills(\"S3\")])\n",
    "table /= table.max()  # Normalizes\n",
    "pd.DataFrame(data=table,index=[\"S3=1\",\"S3=2\",\"S3=3\",\"S3=4\",\"S3=5\"], columns=[\"S2\"])"
   ]
  },
  {
   "cell_type": "code",
   "execution_count": 53,
   "metadata": {},
   "outputs": [
    {
     "data": {
      "text/html": [
       "<div>\n",
       "<style>\n",
       "    .dataframe thead tr:only-child th {\n",
       "        text-align: right;\n",
       "    }\n",
       "\n",
       "    .dataframe thead th {\n",
       "        text-align: left;\n",
       "    }\n",
       "\n",
       "    .dataframe tbody tr th {\n",
       "        vertical-align: top;\n",
       "    }\n",
       "</style>\n",
       "<table border=\"1\" class=\"dataframe\">\n",
       "  <thead>\n",
       "    <tr style=\"text-align: right;\">\n",
       "      <th></th>\n",
       "      <th>S2</th>\n",
       "    </tr>\n",
       "  </thead>\n",
       "  <tbody>\n",
       "    <tr>\n",
       "      <th>S3=1</th>\n",
       "      <td>1.0</td>\n",
       "    </tr>\n",
       "    <tr>\n",
       "      <th>S3=2</th>\n",
       "      <td>1.0</td>\n",
       "    </tr>\n",
       "    <tr>\n",
       "      <th>S3=3</th>\n",
       "      <td>1.0</td>\n",
       "    </tr>\n",
       "    <tr>\n",
       "      <th>S3=4</th>\n",
       "      <td>1.0</td>\n",
       "    </tr>\n",
       "    <tr>\n",
       "      <th>S3=5</th>\n",
       "      <td>1.0</td>\n",
       "    </tr>\n",
       "  </tbody>\n",
       "</table>\n",
       "</div>"
      ],
      "text/plain": [
       "       S2\n",
       "S3=1  1.0\n",
       "S3=2  1.0\n",
       "S3=3  1.0\n",
       "S3=4  1.0\n",
       "S3=5  1.0"
      ]
     },
     "execution_count": 53,
     "metadata": {},
     "output_type": "execute_result"
    }
   ],
   "source": [
    "def Psi_1():\n",
    "    return P(\"S3\")\n",
    "\n",
    "table = Psi_1() / Psi_1().max() # Normalizes the value\n",
    "pd.DataFrame(data=table,index=[\"S3=1\",\"S3=2\",\"S3=3\",\"S3=4\",\"S3=5\"], columns=[\"S2\"])"
   ]
  },
  {
   "cell_type": "markdown",
   "metadata": {},
   "source": [
    "![title](img/2g.png)"
   ]
  },
  {
   "cell_type": "markdown",
   "metadata": {},
   "source": [
    "# Answer"
   ]
  },
  {
   "cell_type": "code",
   "execution_count": 75,
   "metadata": {},
   "outputs": [
    {
     "data": {
      "text/plain": [
       "array([ 0.0020377 ,  0.01055174,  0.01835247,  0.02351849,  0.02764109])"
      ]
     },
     "execution_count": 75,
     "metadata": {},
     "output_type": "execute_result"
    }
   ],
   "source": [
    "def Posterior():\n",
    "    return np.array([Psi_2(x) for x in Skills(\"S3\")]) * Psi_1()\n",
    "def Prior():\n",
    "    return np.array(P(\"S3\"))\n",
    "Posterior()"
   ]
  },
  {
   "cell_type": "code",
   "execution_count": 84,
   "metadata": {},
   "outputs": [
    {
     "data": {
      "image/png": "[encoded data removed]",
      "text/plain": [
       "<matplotlib.figure.Figure at 0x7f5ce6bc9c90>"
      ]
     },
     "metadata": {},
     "output_type": "display_data"
    }
   ],
   "source": [
    "data = pd.DataFrame({\"Skills\":Skills(\"S3\"),\"Posterior\":Posterior(),\"Prior\":Prior()})   \n",
    "plt.figure(figsize=(6,6))\n",
    "plt.bar(Skills(\"S3\")-0.2, Prior(),width=0.2,color='b',align='center')\n",
    "plt.bar(Skills(\"S3\"), Posterior(),width=0.2,color='g',align='center')\n",
    "plt.show()"
   ]
  },
  {
   "cell_type": "markdown",
   "metadata": {},
   "source": [
    "![title](img/4a.png)"
   ]
  },
  {
   "cell_type": "markdown",
   "metadata": {},
   "source": [
    "### Answer\n",
    "$\\Bbb{p}[ p_{b}, p_{w} \\mid s_{b},s_{w}] =  \\Bbb{p}(p_{b} \\mid s_{b}) \\Bbb{p}(s_{b}) \\Bbb{p}(p_{w} \\mid s_{w}) \\Bbb{p}(s_{w})$"
   ]
  },
  {
   "cell_type": "markdown",
   "metadata": {},
   "source": [
    "![title](img/4b.png)"
   ]
  },
  {
   "cell_type": "markdown",
   "metadata": {},
   "source": [
    "### Answer"
   ]
  },
  {
   "cell_type": "markdown",
   "metadata": {},
   "source": [
    "![title](img/4c.png)"
   ]
  },
  {
   "cell_type": "markdown",
   "metadata": {},
   "source": [
    "### Answer\n"
   ]
  },
  {
   "cell_type": "markdown",
   "metadata": {},
   "source": [
    "![title](img/4d.png)"
   ]
  },
  {
   "cell_type": "markdown",
   "metadata": {},
   "source": [
    "### Answer"
   ]
  },
  {
   "cell_type": "markdown",
   "metadata": {},
   "source": [
    "![title](img/4e.png)"
   ]
  },
  {
   "cell_type": "markdown",
   "metadata": {},
   "source": [
    "### Answer"
   ]
  },
  {
   "cell_type": "markdown",
   "metadata": {
    "collapsed": true
   },
   "source": [
    "![title](img/3a-1.png)"
   ]
  },
  {
   "cell_type": "markdown",
   "metadata": {},
   "source": [
    "![title](img/3a-2.png)"
   ]
  },
  {
   "cell_type": "markdown",
   "metadata": {},
   "source": [
    "![title](img/3a-3.png)"
   ]
  },
  {
   "cell_type": "markdown",
   "metadata": {},
   "source": [
    "### Answer"
   ]
  },
  {
   "cell_type": "markdown",
   "metadata": {},
   "source": [
    "![title](img/3b.png)"
   ]
  },
  {
   "cell_type": "markdown",
   "metadata": {},
   "source": [
    "### Answer"
   ]
  },
  {
   "cell_type": "markdown",
   "metadata": {},
   "source": [
    "![title](img/3c.png)"
   ]
  },
  {
   "cell_type": "markdown",
   "metadata": {},
   "source": [
    "### Answer"
   ]
  },
  {
   "cell_type": "markdown",
   "metadata": {},
   "source": [
    "![title](img/3d.png)"
   ]
  },
  {
   "cell_type": "markdown",
   "metadata": {},
   "source": [
    "### Answer"
   ]
  },
  {
   "cell_type": "markdown",
   "metadata": {},
   "source": [
    "![title](img/3e.png)"
   ]
  },
  {
   "cell_type": "markdown",
   "metadata": {},
   "source": [
    "### Answer"
   ]
  },
  {
   "cell_type": "markdown",
   "metadata": {},
   "source": [
    "![title](img/3f.png)"
   ]
  },
  {
   "cell_type": "markdown",
   "metadata": {},
   "source": [
    "### Answer"
   ]
  },
  {
   "cell_type": "markdown",
   "metadata": {},
   "source": [
    "![title](img/appendix1.png)"
   ]
  },
  {
   "cell_type": "markdown",
   "metadata": {},
   "source": [
    "![title](img/appendix2.png)"
   ]
  },
  {
   "cell_type": "code",
   "execution_count": null,
   "metadata": {
    "collapsed": true
   },
   "outputs": [],
   "source": []
  }
 ],
 "metadata": {
  "kernelspec": {
   "display_name": "Python 2",
   "language": "python",
   "name": "python2"
  },
  "language_info": {
   "codemirror_mode": {
    "name": "ipython",
    "version": 2
   },
   "file_extension": ".py",
   "mimetype": "text/x-python",
   "name": "python",
   "nbconvert_exporter": "python",
   "pygments_lexer": "ipython2",
   "version": "2.7.13"
  }
 },
 "nbformat": 4,
 "nbformat_minor": 2
}
