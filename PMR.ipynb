{
 "cells": [
  {
   "cell_type": "code",
   "execution_count": 20,
   "metadata": {
    "collapsed": true
   },
   "outputs": [],
   "source": [
    "# Import packages\n",
    "from __future__ import division, print_function # Imports from __future__ since we're running Python 2\n",
    "import os\n",
    "import numpy as np \n",
    "import pandas as pd\n",
    "import matplotlib.pyplot as plt\n",
    "import seaborn as sns\n",
    "from sklearn.naive_bayes import MultinomialNB\n",
    "from sklearn.metrics import accuracy_score, confusion_matrix\n",
    "%matplotlib inline"
   ]
  },
  {
   "cell_type": "markdown",
   "metadata": {},
   "source": [
    "# Probabilistic Modelling Assignment (INFR 100000)  2017-2018\n",
    "\n",
    "## UUN: S1778742"
   ]
  },
  {
   "cell_type": "markdown",
   "metadata": {},
   "source": [
    "![title](img/introduction.png)"
   ]
  },
  {
   "cell_type": "markdown",
   "metadata": {},
   "source": [
    "![title](img/notation.png)"
   ]
  },
  {
   "cell_type": "markdown",
   "metadata": {},
   "source": [
    "![title](img/question1.png)"
   ]
  },
  {
   "cell_type": "markdown",
   "metadata": {},
   "source": [
    "![title](img/1a.png)"
   ]
  },
  {
   "cell_type": "markdown",
   "metadata": {},
   "source": [
    "### Answer\n",
    "![title](img/1a-ans1.png)"
   ]
  },
  {
   "cell_type": "markdown",
   "metadata": {},
   "source": [
    "![title](img/1b.png)"
   ]
  },
  {
   "cell_type": "markdown",
   "metadata": {},
   "source": [
    "### Answer\n",
    "### $(S_{1} \\perp\\!\\!\\!\\perp S_{2}) \\mid r^{2}$  "
   ]
  },
  {
   "cell_type": "markdown",
   "metadata": {},
   "source": [
    "This statement is conditionally independent, because all of the path from S1 to S2 are d-seperated. \n",
    "\n",
    "There are two path between S1 and S2.\n",
    " 1. $S_{1}$ - $r^{1}$ - $S_{2}$ \n",
    "  - This is blocked by $r^{1}$, since it is a collider. \n",
    "  \n",
    "  \n",
    " 2. $S_{1}$ - $r^{3}$ - $S_{3}$ - $r_{2}$ - $S_{2}$ \n",
    "  - $S_{1}$ to  $S_{3}$ is blocked by $r^{3}$ as it is a collider.\n",
    "  - After $r^{2}$ is observed, the path between $S_{3}$ and $S_{2}$ becomes unblocked.\n",
    "  - There is at least one blocked path.\n",
    "\n",
    "Since every available path are blocked between $S_{1}$ and $S_{2}$. There are considered conditionally independent."
   ]
  },
  {
   "cell_type": "markdown",
   "metadata": {},
   "source": [
    "### $(S_{1} \\not\\perp\\!\\!\\!\\perp S_{2}) \\mid r^{2},r^{3}$"
   ]
  },
  {
   "cell_type": "markdown",
   "metadata": {},
   "source": [
    "This statement is NOT conditionally independent, because not every path from S1 to S2 are d-seperated. \n",
    "\n",
    "There are two path between S1 and S2.\n",
    " 1. $S_{1}$ - $r^{1}$ - $S_{2}$ \n",
    "  - This is blocked by $r^{1}$, since it is a collider. \n",
    "  \n",
    "  \n",
    " 2. $S_{1}$ - $r^{3}$ - $S_{3}$ - $r_{2}$ - $S_{2}$\n",
    "  - After $r^{3}$ is observed, the path between $S_{1}$ and $S_{3}$ becomes unblocked. \n",
    "  - After $r^{2}$ is observed, the path between $S_{3}$ and $S_{2}$ becomes unblocked.\n",
    "  - There is no blocked path from $S_{1}$ and $S_{2}$. Therefore, they are not conditionall independent.\n"
   ]
  },
  {
   "cell_type": "markdown",
   "metadata": {},
   "source": [
    "![title](img/1c.png)"
   ]
  },
  {
   "cell_type": "markdown",
   "metadata": {},
   "source": [
    "### Answer"
   ]
  },
  {
   "cell_type": "markdown",
   "metadata": {},
   "source": [
    "![title](img/1c-ans1.png)"
   ]
  },
  {
   "cell_type": "markdown",
   "metadata": {},
   "source": [
    "![title](img/1d.png)"
   ]
  },
  {
   "cell_type": "markdown",
   "metadata": {},
   "source": [
    "### Answer\n",
    "![title](img/1d-ans1.png)"
   ]
  },
  {
   "cell_type": "markdown",
   "metadata": {},
   "source": [
    "![title](img/2a.png)"
   ]
  },
  {
   "cell_type": "markdown",
   "metadata": {},
   "source": [
    "### Answer\n",
    "$ \\Bbb{P} [S_{1},S_{2},S_{3},r_{1},r_{2},r_{3}] = \n",
    "\\Bbb{P}(S_{1}) \n",
    "\\Bbb{P}(S_{2}) \n",
    "\\Bbb{P}(S_{3}) \n",
    "\\Bbb{P}(r^{1} \\mid S_{1}, S_{2}) \n",
    "\\Bbb{P}(r^{2} \\mid S_{2}, S_{3})\n",
    "\\Bbb{P}(r^{3} \\mid S_{1}, S_{3})$\n",
    "\n",
    "1. $\\Bbb{P}(S_{1})$ : Prior probability of $S_{1}$ having certain level of skills.\n",
    "2. $\\Bbb{P}(S_{2})$ : Prior probability of $S_{2}$ having certain level of skills.\n",
    "3. $\\Bbb{P}(S_{3})$ : Prior probability of $S_{3}$ having certain level of skills.\n",
    "4. $\\Bbb{P}(r^{1} \\mid S_{1}, S_{2}) $ : Posterior probability of game1 outcome given skills of $S_{1}$ and $S_{2}$.\n",
    "5. $\\Bbb{P}(r^{2} \\mid S_{2}, S_{3}) $ : Posterior probability of game2 outcome given skills of $S_{2}$ and $S_{3}$.\n",
    "6. $\\Bbb{P}(r^{3} \\mid S_{1}, S_{3}) $ : Posterior probability of game3 outcome given skills of $S_{1}$ and $S_{3}$."
   ]
  },
  {
   "cell_type": "markdown",
   "metadata": {},
   "source": [
    "![title](img/2b.png)"
   ]
  },
  {
   "cell_type": "markdown",
   "metadata": {},
   "source": [
    "### Answer\n",
    "\n",
    "1. $\\Phi_{1}(S_{1}) = \\Bbb{P}(S_{1})$\n",
    "2. $\\Phi_{2}(S_{2}) = \\Bbb{P}(S_{2})$\n",
    "3. $\\Phi_{3}(S_{3}) = \\Bbb{P}(S_{3})$\n",
    "4. $\\Phi_{A}(r^{1}, S_{1}, S_{2}) = \\Bbb{P}(r^{1} \\mid S_{1}, S_{2}) $\n",
    "5. $\\Phi_{B}(r^{2}, S_{1}, S_{2}) = \\Bbb{P}(r^{2} \\mid S_{2}, S_{3}) $\n",
    "6. $\\Phi_{C}(r^{3}, S_{1}, S_{2}) = \\Bbb{P}(r^{3} \\mid S_{3}, S_{1}) $"
   ]
  },
  {
   "cell_type": "markdown",
   "metadata": {},
   "source": [
    "![title](img/2c.png)"
   ]
  },
  {
   "cell_type": "markdown",
   "metadata": {},
   "source": [
    "![title](img/2c-ans1.png)"
   ]
  },
  {
   "cell_type": "markdown",
   "metadata": {},
   "source": [
    "### Answer\n",
    "\n",
    "1. $\\Phi_{1}(S_{1}) = \\Bbb{P}(S_{1})$\n",
    "2. $\\Phi_{2}(S_{2}) = \\Bbb{P}(S_{2})$\n",
    "3. $\\Phi_{3}(S_{3}) = \\Bbb{P}(S_{3})$\n",
    "4. $\\Phi_{y}( S_{1}, S_{2}) = \\Bbb{P}(r^{1} = 1 \\mid S_{1}, S_{2}) $\n",
    "5. $\\Phi_{w}( S_{2}, S_{3}) = \\Bbb{P}(r^{2} = 0 \\mid S_{2}, S_{3}) $\n",
    "6. $\\Phi_{x}( S_{3}, S_{1}) = \\Bbb{P}(r^{3} = 1 \\mid S_{3}, S_{1}) $"
   ]
  },
  {
   "cell_type": "markdown",
   "metadata": {},
   "source": [
    "![title](img/2d-1.png)"
   ]
  },
  {
   "cell_type": "markdown",
   "metadata": {},
   "source": [
    "![title](img/2d-2.png)"
   ]
  },
  {
   "cell_type": "markdown",
   "metadata": {},
   "source": [
    "### Answer\n",
    "No. Standard message passing is not possible since there's a loop in the graph."
   ]
  },
  {
   "cell_type": "markdown",
   "metadata": {},
   "source": [
    "![title](img/2e.png)"
   ]
  },
  {
   "cell_type": "markdown",
   "metadata": {},
   "source": [
    "### Answer"
   ]
  },
  {
   "cell_type": "markdown",
   "metadata": {},
   "source": [
    "![title](img/2e-ans1.png)"
   ]
  },
  {
   "cell_type": "markdown",
   "metadata": {},
   "source": [
    "For $\\Bbb{P}( S_{2}, S_{3} \\mid r^{1} = 1,r^{2} = 0,r^{3} = 1) $\n",
    "\n",
    "Factorizes to:\n",
    "\n",
    "$\\Phi_{2}(S_{2}) \\Phi_{3}(S_{3}) \\Phi_{w}( S_{2}, S_{3}) \\Phi_{1}(S_{1}) \\Phi_{y}( S_{1}, S_{2}) \\Phi_{x}( S_{3}, S_{1})$\n",
    "\n",
    "Marginalizing S1 results in:\n",
    "\n",
    "$\\Phi_{2}(S_{2}) \\Phi_{3}(S_{3}) \\Phi_{w}( S_{2}, S_{3}) \\sum_{S_{1}=k} \\Phi_{1}(S_{1}) \\Phi_{y}( S_{1}, S_{2}) \\Phi_{x}( S_{3}, S_{1})$\n",
    "\n",
    "Eliminate S1:\n",
    "\n",
    "$\\Phi_{2}(S_{2}) \\Phi_{3}(S_{3}) \\Phi_{w}( S_{2}, S_{3})  \\Phi_{\\tilde~1}( S_{2}, S_{3}) $ \n",
    "\n",
    "Each potential represents:\n",
    "\n",
    "1. $\\Phi_{2}(S_{2}) = \\Bbb{P}(S_{2})$\n",
    "2. $\\Phi_{3}(S_{3}) = \\Bbb{P}(S_{3})$\n",
    "3. $\\Phi_{w}( S_{2}, S_{3}) = \\Bbb{P}(r^{2} = 0 \\mid S_{2}, S_{3}) $\n",
    "4. $\\Phi_{\\tilde~1}( S_{2}, S_{3}) = \\sum_{S_{1}=k} \\Phi_{1}(S_{1}) \\Phi_{y}( S_{1}, S_{2}) \\Phi_{x}( S_{3}, S_{1}) = \\sum_{S_{1}=k} \\Bbb{P}(S_{1}) \\Bbb{P}(r^{1} = 1 \\mid S_{1}, S_{2}) \\Bbb{P}(r^{3} = 1 \\mid S_{3}, S_{1}) $"
   ]
  },
  {
   "cell_type": "code",
   "execution_count": 22,
   "metadata": {
    "collapsed": true
   },
   "outputs": [],
   "source": [
    "def P(var):\n",
    "    if var == \"S1\":\n",
    "        return np.array([0.01, 0.01, 0.08, 0.2, 0.7])\n",
    "    if var == \"S2\":\n",
    "        return np.array([0.02, 0.02, 0.06, 0.3, 0.6])\n",
    "    if var == \"S3\":\n",
    "        return np.array([0.2, 0.2, 0.2, 0.2, 0.2])\n",
    "    \n",
    "def CondP_Black_Winning(b,w):\n",
    "    return 0.0052 * (b -  w)**3 + 0.0292 * (b - w) + 0.5\n",
    "\n",
    "def Phi_Tild_1(s2,s3):\n",
    "    value = P(\"S1\") * CondP_Black_Winning(P(\"S1\"),s2) * CondP_Black_Winning(s3,P(\"S1\"))\n",
    "    return value.sum()\n",
    "\n",
    "def JointP_S2_S3(s2,s3):\n",
    "    value = s2 * s3 * (1-CondP_Black_Winning(s2,s3)) * Phi_Tild_1(s2,s3) \n",
    "    return value"
   ]
  },
  {
   "cell_type": "code",
   "execution_count": 25,
   "metadata": {},
   "outputs": [
    {
     "data": {
      "text/html": [
       "<div>\n",
       "<style>\n",
       "    .dataframe thead tr:only-child th {\n",
       "        text-align: right;\n",
       "    }\n",
       "\n",
       "    .dataframe thead th {\n",
       "        text-align: left;\n",
       "    }\n",
       "\n",
       "    .dataframe tbody tr th {\n",
       "        vertical-align: top;\n",
       "    }\n",
       "</style>\n",
       "<table border=\"1\" class=\"dataframe\">\n",
       "  <thead>\n",
       "    <tr style=\"text-align: right;\">\n",
       "      <th></th>\n",
       "      <th>S3=1</th>\n",
       "      <th>S3=2</th>\n",
       "      <th>S3=3</th>\n",
       "      <th>S3=4</th>\n",
       "      <th>S3=5</th>\n",
       "    </tr>\n",
       "  </thead>\n",
       "  <tbody>\n",
       "    <tr>\n",
       "      <th>S2=1</th>\n",
       "      <td>0.000511</td>\n",
       "      <td>0.000511</td>\n",
       "      <td>0.000511</td>\n",
       "      <td>0.000511</td>\n",
       "      <td>0.000511</td>\n",
       "    </tr>\n",
       "    <tr>\n",
       "      <th>S2=2</th>\n",
       "      <td>0.000511</td>\n",
       "      <td>0.000511</td>\n",
       "      <td>0.000511</td>\n",
       "      <td>0.000511</td>\n",
       "      <td>0.000511</td>\n",
       "    </tr>\n",
       "    <tr>\n",
       "      <th>S2=3</th>\n",
       "      <td>0.001525</td>\n",
       "      <td>0.001525</td>\n",
       "      <td>0.001525</td>\n",
       "      <td>0.001525</td>\n",
       "      <td>0.001525</td>\n",
       "    </tr>\n",
       "    <tr>\n",
       "      <th>S2=4</th>\n",
       "      <td>0.007405</td>\n",
       "      <td>0.007405</td>\n",
       "      <td>0.007405</td>\n",
       "      <td>0.007405</td>\n",
       "      <td>0.007405</td>\n",
       "    </tr>\n",
       "    <tr>\n",
       "      <th>S2=5</th>\n",
       "      <td>0.014278</td>\n",
       "      <td>0.014278</td>\n",
       "      <td>0.014278</td>\n",
       "      <td>0.014278</td>\n",
       "      <td>0.014278</td>\n",
       "    </tr>\n",
       "  </tbody>\n",
       "</table>\n",
       "</div>"
      ],
      "text/plain": [
       "          S3=1      S3=2      S3=3      S3=4      S3=5\n",
       "S2=1  0.000511  0.000511  0.000511  0.000511  0.000511\n",
       "S2=2  0.000511  0.000511  0.000511  0.000511  0.000511\n",
       "S2=3  0.001525  0.001525  0.001525  0.001525  0.001525\n",
       "S2=4  0.007405  0.007405  0.007405  0.007405  0.007405\n",
       "S2=5  0.014278  0.014278  0.014278  0.014278  0.014278"
      ]
     },
     "execution_count": 25,
     "metadata": {},
     "output_type": "execute_result"
    }
   ],
   "source": [
    "table = []\n",
    "for i in P(\"S2\"):\n",
    "    row = []\n",
    "    for j in P(\"S3\"):\n",
    "        row.append(JointP_S2_S3(i,j))\n",
    "    table.append(row)\n",
    "table = np.array(table)\n",
    "\n",
    "pd.DataFrame(data=table,index=[\"S2=1\",\"S2=2\",\"S2=3\",\"S2=4\",\"S2=5\"], columns=[\"S3=1\",\"S3=2\",\"S3=3\",\"S3=4\",\"S3=5\"])"
   ]
  },
  {
   "cell_type": "markdown",
   "metadata": {},
   "source": [
    "![title](img/2f.png)"
   ]
  },
  {
   "cell_type": "markdown",
   "metadata": {},
   "source": [
    "### Answer\n",
    "For $\\Phi_{2}(S_{2}) \\Phi_{3}(S_{3}) \\Phi_{w}( S_{2}, S_{3})  \\Phi_{\\tilde~1}( S_{2}, S_{3}) $ \n",
    "\n",
    "Marginalizing S2 results in:\n",
    "\n",
    "$ \\Phi_{3}(S_{3}) \\sum_{S_{2}=k} \\Phi_{2}(S_{2}) \\Phi_{w}( S_{2}, S_{3})   \\Phi_{\\tilde~1}( S_{2}, S_{3}) $ \n",
    "\n",
    "Eliminate S2:\n",
    "\n",
    "$ \\Psi_{1}(S_{3}) \\Psi_{2}(S_{3})  $ \n",
    "\n",
    "Each function represents:\n",
    "\n",
    "$ \\Psi_{1}(S_{3}) = \\Phi_{3}(S_{3}) $\n",
    "\n",
    "$ \\Psi_{2}(S_{3}) = \\sum_{S_{2}=k} \\Phi_{2}(S_{2}) \\Phi_{w}( S_{2}, S_{3})   \\Phi_{\\tilde~1}( S_{2}, S_{3}) $"
   ]
  },
  {
   "cell_type": "code",
   "execution_count": 27,
   "metadata": {},
   "outputs": [
    {
     "name": "stdout",
     "output_type": "stream",
     "text": [
      "[0.12091655666725243, 0.12091655666725243, 0.12091655666725243, 0.12091655666725243, 0.12091655666725243]\n",
      "[ 0.2  0.2  0.2  0.2  0.2]\n"
     ]
    }
   ],
   "source": [
    "def Psi_2(S3):\n",
    "    value = P(\"S2\") * (1-CondP_Black_Winning(P(\"S2\"),S3)) * Phi_Tild_1(P(\"S2\"),S3)\n",
    "    return value.sum()\n",
    "print([Psi_2(x) for x in P(\"S3\")])\n",
    "print(P(\"S3\"))"
   ]
  },
  {
   "cell_type": "markdown",
   "metadata": {},
   "source": [
    "![title](img/2g.png)"
   ]
  },
  {
   "cell_type": "code",
   "execution_count": 31,
   "metadata": {},
   "outputs": [],
   "source": [
    "def Posterior():\n",
    "    return [Psi_2(x) for x in P(\"S3\")] * P(\"S3\")   \n",
    "def Prior():\n",
    "    return P(\"S3\")"
   ]
  },
  {
   "cell_type": "code",
   "execution_count": 33,
   "metadata": {},
   "outputs": [
    {
     "data": {
      "image/png": "[encoded data removed]",
      "text/plain": [
       "<matplotlib.figure.Figure at 0x7f45fef76690>"
      ]
     },
     "metadata": {},
     "output_type": "display_data"
    }
   ],
   "source": [
    "plt.plot(range(5), Posterior(), '--')\n",
    "plt.plot(range(5), Prior(), '--')\n",
    "plt.plot(range(5), np.abs(Posterior() - Prior()), '--')\n",
    "plt.show()"
   ]
  },
  {
   "cell_type": "code",
   "execution_count": null,
   "metadata": {
    "collapsed": true
   },
   "outputs": [],
   "source": []
  }
 ],
 "metadata": {
  "kernelspec": {
   "display_name": "Python 2",
   "language": "python",
   "name": "python2"
  },
  "language_info": {
   "codemirror_mode": {
    "name": "ipython",
    "version": 2
   },
   "file_extension": ".py",
   "mimetype": "text/x-python",
   "name": "python",
   "nbconvert_exporter": "python",
   "pygments_lexer": "ipython2",
   "version": "2.7.13"
  }
 },
 "nbformat": 4,
 "nbformat_minor": 2
}
