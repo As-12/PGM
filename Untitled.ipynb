{
 "cells": [
  {
   "cell_type": "code",
   "execution_count": 1,
   "metadata": {
    "collapsed": true
   },
   "outputs": [],
   "source": [
    "# Import packages\n",
    "from __future__ import division, print_function # Imports from __future__ since we're running Python 2\n",
    "import os\n",
    "import numpy as np \n",
    "import pandas as pd\n",
    "import matplotlib.pyplot as plt\n",
    "import seaborn as sns\n",
    "from sklearn.naive_bayes import MultinomialNB\n",
    "from sklearn.metrics import accuracy_score, confusion_matrix\n",
    "%matplotlib inline"
   ]
  },
  {
   "cell_type": "code",
   "execution_count": 6,
   "metadata": {},
   "outputs": [
    {
     "name": "stdout",
     "output_type": "stream",
     "text": [
      "Sum of P(S1) = 1.0\n",
      "Sum of P(S2) = 1.0\n",
      "Sum of P(S3) = 1.0\n"
     ]
    },
    {
     "data": {
      "text/plain": [
       "4"
      ]
     },
     "execution_count": 6,
     "metadata": {},
     "output_type": "execute_result"
    }
   ],
   "source": [
    "def P(var):\n",
    "    if var == \"S1\":\n",
    "        return np.array([0.01, 0.01, 0.08, 0.2, 0.7])\n",
    "    if var == \"S2\":\n",
    "        return np.array([0.02, 0.02, 0.06, 0.3, 0.6])\n",
    "    if var == \"S3\":\n",
    "        return np.array([0.2, 0.2, 0.2, 0.2, 0.2])\n",
    "\n",
    "print(\"Sum of P(S1) = {}\\nSum of P(S2) = {}\\nSum of P(S3) = {}\".format(P(\"S1\").sum(),P(\"S2\").sum(),P(\"S3\").sum()))\n",
    "\n",
    "2**2"
   ]
  },
  {
   "cell_type": "code",
   "execution_count": 9,
   "metadata": {},
   "outputs": [
    {
     "data": {
      "text/plain": [
       "array([ 0.00252644,  0.00252644,  0.02016405,  0.04970748,  0.17065509])"
      ]
     },
     "execution_count": 9,
     "metadata": {},
     "output_type": "execute_result"
    }
   ],
   "source": [
    "def CondP_BlackWinning(b,w):\n",
    "    return 0.0052 * (b -  w)**3 + 0.0292 * (b - w) + 0.5\n",
    "\n",
    "#S1 is black player\n",
    "#S2 is white player\n",
    "P(\"S1\") * CondP_BlackWinning(P(\"S1\"),P(\"S2\")) * CondP_BlackWinning(P(\"S3\"),P(\"S1\"))\n"
   ]
  },
  {
   "cell_type": "code",
   "execution_count": 21,
   "metadata": {},
   "outputs": [
    {
     "name": "stdout",
     "output_type": "stream",
     "text": [
      " 0.252747603014 0.252747603014 0.252747603014 0.252747603014 0.252747603014\n",
      " 0.252747603014 0.252747603014 0.252747603014 0.252747603014 0.252747603014\n",
      " 0.252081695225 0.252081695225 0.252081695225 0.252081695225 0.252081695225\n",
      " 0.248294675673 0.248294675673 0.248294675673 0.248294675673 0.248294675673\n",
      " 0.243824087459 0.243824087459 0.243824087459 0.243824087459 0.243824087459\n"
     ]
    }
   ],
   "source": [
    "# Question 2.e\n",
    "for s2 in P(\"S2\"):\n",
    "    str1 = \"\"\n",
    "    for s3 in P(\"S3\"):\n",
    "        value = P(\"S1\") * CondP_BlackWinning(P(\"S1\"),s2) * CondP_BlackWinning(s3,P(\"S1\"))\n",
    "        str1 += \" \" + str(value.sum())\n",
    "    print(str1)"
   ]
  },
  {
   "cell_type": "code",
   "execution_count": null,
   "metadata": {
    "collapsed": true
   },
   "outputs": [],
   "source": [
    "#Question 2.f"
   ]
  },
  {
   "cell_type": "code",
   "execution_count": 18,
   "metadata": {},
   "outputs": [
    {
     "name": "stdout",
     "output_type": "stream",
     "text": [
      " 0.252747603014 0.252747603014 0.252747603014 0.252747603014 0.252747603014\n",
      " 0.252747603014 0.252747603014 0.252747603014 0.252747603014 0.252747603014\n",
      " 0.252081695225 0.252081695225 0.252081695225 0.252081695225 0.252081695225\n",
      " 0.248294675673 0.248294675673 0.248294675673 0.248294675673 0.248294675673\n",
      " 0.243824087459 0.243824087459 0.243824087459 0.243824087459 0.243824087459\n"
     ]
    }
   ],
   "source": [
    "for s2 in P(\"S2\"):\n",
    "    str1 = \"\"\n",
    "    for s3 in P(\"S3\"):\n",
    "        value = 0\n",
    "        for s1 in P(\"S1\"):\n",
    "            value += s1 * CondP_BlackWinning(s1,s2) * CondP_BlackWinning(s3,s1)\n",
    "        str1 += \" \" + str(value)\n",
    "    print(str1)"
   ]
  },
  {
   "cell_type": "code",
   "execution_count": 25,
   "metadata": {},
   "outputs": [
    {
     "name": "stdout",
     "output_type": "stream",
     "text": [
      "0.12005223873\n",
      "0.12005223873\n",
      "0.12005223873\n",
      "0.12005223873\n",
      "0.12005223873\n",
      "0.60026119365\n"
     ]
    },
    {
     "data": {
      "text/plain": [
       "array([ 0.2,  0.2,  0.2,  0.2,  0.2])"
      ]
     },
     "execution_count": 25,
     "metadata": {},
     "output_type": "execute_result"
    }
   ],
   "source": [
    "\n",
    "def PhiX(S2,S3):\n",
    "    value = P(\"S1\") * CondP_BlackWinning(P(\"S1\"),s2) * CondP_BlackWinning(s3,P(\"S1\"))\n",
    "    return value.sum()\n",
    "\n",
    "def Phi2(S3):\n",
    "    value = (1 - CondP_BlackWinning(P(\"S2\"), S3)) * P(\"S2\") *  PhiX(P(\"S2\"), S3)\n",
    "    return value.sum()\n",
    "\n",
    "for s3 in P(\"S3\"):\n",
    "    print(Phi2(s3))\n",
    "\n",
    "P(\"S3\")"
   ]
  },
  {
   "cell_type": "code",
   "execution_count": null,
   "metadata": {
    "collapsed": true
   },
   "outputs": [],
   "source": [
    "\n",
    "def PhiX(S2,S3):\n",
    "    value = P(\"S1\") * CondP_BlackWinning(P(\"S1\"),s2) * CondP_BlackWinning(s3,P(\"S1\"))\n",
    "    return value.sum()\n",
    "\n",
    "def Phi2(S3):\n",
    "    value = (1 - CondP_BlackWinning(P(\"S2\"), S3)) * P(\"S2\") *  PhiX(P(\"S2\"), S3)\n",
    "    return value.sum()\n",
    "\n",
    "for s3 in P(\"S3\"):\n",
    "    print(Phi2(s3))\n",
    "    \n"
   ]
  }
 ],
 "metadata": {
  "kernelspec": {
   "display_name": "Python 2",
   "language": "python",
   "name": "python2"
  },
  "language_info": {
   "codemirror_mode": {
    "name": "ipython",
    "version": 2
   },
   "file_extension": ".py",
   "mimetype": "text/x-python",
   "name": "python",
   "nbconvert_exporter": "python",
   "pygments_lexer": "ipython2",
   "version": "2.7.13"
  }
 },
 "nbformat": 4,
 "nbformat_minor": 2
}
